{
 "cells": [
  {
   "cell_type": "markdown",
   "metadata": {},
   "source": [
    "# Building ML Models for SRF Fault Classification\n",
    "Chris Tennant <br>\n",
    "_December 17, 2019_\n",
    "***"
   ]
  },
  {
   "cell_type": "markdown",
   "metadata": {},
   "source": [
    "Import `pandas`, `matplotlib`, `numpy` and `os` libraries."
   ]
  },
  {
   "cell_type": "code",
   "execution_count": 1,
   "metadata": {},
   "outputs": [],
   "source": [
    "                                                                                    import pandas as pd\n",
    "import matplotlib.pyplot as plt\n",
    "import numpy as np\n",
    "from pathlib import Path\n",
    "import feather\n",
    "\n",
    "dir = Path('C:/Users/tennant/Desktop/rfw_tsf_extractor-Spring-2018/extracted')"
   ]
  },
  {
   "cell_type": "markdown",
   "metadata": {},
   "source": [
    "Read in .csv files with features computed by `tsfresh`."
   ]
  },
  {
   "cell_type": "code",
   "execution_count": 2,
   "metadata": {},
   "outputs": [],
   "source": [
    "y_master = pd.read_csv(dir/'y_fault_master.csv')"
   ]
  },
  {
   "cell_type": "code",
   "execution_count": 3,
   "metadata": {},
   "outputs": [],
   "source": [
    "X_master = pd.read_csv(dir/'X_fault_master.csv')"
   ]
  },
  {
   "cell_type": "code",
   "execution_count": 4,
   "metadata": {},
   "outputs": [],
   "source": [
    "y_master = y_master.drop(columns=['zone', 'time'])"
   ]
  },
  {
   "cell_type": "code",
   "execution_count": 5,
   "metadata": {},
   "outputs": [],
   "source": [
    "X_master = X_master.drop(columns=['zone', 'time'])"
   ]
  },
  {
   "cell_type": "code",
   "execution_count": 6,
   "metadata": {
    "scrolled": false
   },
   "outputs": [
    {
     "name": "stdout",
     "output_type": "stream",
     "text": [
      "Number of training examples: 330\n",
      "Number of features: 12818\n",
      "Number of categories: 4\n"
     ]
    }
   ],
   "source": [
    "print(\"Number of training examples: {}\".format(X_master.shape[0]))\n",
    "print(\"Number of features: {}\".format(X_master.shape[1]))\n",
    "print(\"Number of categories: {}\".format(y_master['label'].nunique()))"
   ]
  },
  {
   "cell_type": "markdown",
   "metadata": {},
   "source": [
    "Histogram showing how the distribution of the types of faults in the data set."
   ]
  },
  {
   "cell_type": "code",
   "execution_count": 7,
   "metadata": {},
   "outputs": [
    {
     "data": {
      "text/plain": [
       "Single Cav Turn off    140\n",
       "Quench                 114\n",
       "Microphonics            50\n",
       "E_Quench                26\n",
       "Name: label, dtype: int64"
      ]
     },
     "execution_count": 7,
     "metadata": {},
     "output_type": "execute_result"
    }
   ],
   "source": [
    "y_master['label'].value_counts()"
   ]
  },
  {
   "cell_type": "code",
   "execution_count": 8,
   "metadata": {
    "scrolled": false
   },
   "outputs": [
    {
     "data": {
      "image/png": "[encoded data removed]",
      "text/plain": [
       "<Figure size 432x288 with 1 Axes>"
      ]
     },
     "metadata": {
      "needs_background": "light"
     },
     "output_type": "display_data"
    }
   ],
   "source": [
    "#y_master.T.head(55)\n",
    "y_master['label'].value_counts().plot(kind='bar');\n",
    "plt.title(\"Distribution of Cavity Fault Types\");\n",
    "plt.ylabel(\"Counts\");\n",
    "#plt.savefig(\"faults_bar.png\", bbox_inches = \"tight\", dpi=200)"
   ]
  },
  {
   "cell_type": "markdown",
   "metadata": {},
   "source": [
    "Use `impute` from `tsfresh` to replace all `NaNs` and `infs` from the `DataFrame` with average/extreme values from the same columns."
   ]
  },
  {
   "cell_type": "code",
   "execution_count": 9,
   "metadata": {},
   "outputs": [],
   "source": [
    "from tsfresh.utilities.dataframe_functions import impute\n",
    "\n",
    "X_master = impute(X_master)"
   ]
  },
  {
   "cell_type": "markdown",
   "metadata": {},
   "source": [
    "Need to convert categorical labels to numeric labels using `LabelEncoder`."
   ]
  },
  {
   "cell_type": "code",
   "execution_count": 10,
   "metadata": {},
   "outputs": [],
   "source": [
    "from sklearn import preprocessing\n",
    "\n",
    "le = preprocessing.LabelEncoder()\n",
    "y_master_encoded = pd.Series(le.fit_transform(np.ravel(y_master)), y_master.index)\n",
    "np.save('le_fault_classes.npy', le.classes_)"
   ]
  },
  {
   "cell_type": "markdown",
   "metadata": {},
   "source": [
    "Split the data into training and test sets using `train_test_split` from `sklearn`. Keep 30% of the data for testing."
   ]
  },
  {
   "cell_type": "code",
   "execution_count": 11,
   "metadata": {},
   "outputs": [],
   "source": [
    "from sklearn.model_selection import train_test_split\n",
    "\n",
    "X_train, X_test, y_train, y_test = train_test_split(X_master, y_master_encoded, test_size = 0.3, random_state=123, stratify=y_master)"
   ]
  },
  {
   "cell_type": "code",
   "execution_count": 12,
   "metadata": {
    "scrolled": true
   },
   "outputs": [
    {
     "name": "stdout",
     "output_type": "stream",
     "text": [
      "The number of training examples is: 231\n",
      "The number of test examples is: 99\n"
     ]
    }
   ],
   "source": [
    "print(\"The number of training examples is: {}\".format(X_train.shape[0]))\n",
    "print(\"The number of test examples is: {}\".format(X_test.shape[0]))"
   ]
  },
  {
   "cell_type": "code",
   "execution_count": 13,
   "metadata": {},
   "outputs": [
    {
     "data": {
      "image/png": "[encoded data removed]",
      "text/plain": [
       "<Figure size 432x288 with 1 Axes>"
      ]
     },
     "metadata": {
      "needs_background": "light"
     },
     "output_type": "display_data"
    }
   ],
   "source": [
    "y_train.value_counts().plot(kind='bar');\n",
    "plt.title(\"Distribution of Cavity Fault Types\");\n",
    "plt.ylabel(\"Counts\");\n",
    "#plt.savefig(\"faults_bar.png\", bbox_inches = \"tight\", dpi=200)"
   ]
  },
  {
   "cell_type": "code",
   "execution_count": 14,
   "metadata": {},
   "outputs": [
    {
     "data": {
      "image/png": "[encoded data removed]",
      "text/plain": [
       "<Figure size 432x288 with 1 Axes>"
      ]
     },
     "metadata": {
      "needs_background": "light"
     },
     "output_type": "display_data"
    }
   ],
   "source": [
    "y_test.value_counts().plot(kind='bar');\n",
    "plt.title(\"Distribution of Cavity Fault Types\");\n",
    "plt.ylabel(\"Counts\");\n",
    "#plt.savefig(\"faults_bar.png\", bbox_inches = \"tight\", dpi=200)"
   ]
  },
  {
   "cell_type": "markdown",
   "metadata": {},
   "source": [
    "Need to standardize features by removing the mean and scaling to unit variance. Note to avoid _data leak_ we standardize the training data and then use the same step (including the same values for mean and standard deviation) on the test set.\n",
    "<br><br>\n",
    "_(Note, it may be wise to standardize the initial time-series signals before computing features. However, it requires having all the data together in a single `DataFrame`. Due to computational issues with `tsfresh`, this is not possible and need to compute small batches of data at a time)._"
   ]
  },
  {
   "cell_type": "code",
   "execution_count": 15,
   "metadata": {
    "scrolled": true
   },
   "outputs": [],
   "source": [
    "from sklearn.preprocessing import StandardScaler\n",
    "\n",
    "sc = StandardScaler()\n",
    "X_train_scaled = pd.DataFrame(sc.fit_transform(X_train), columns=X_train.columns, index=X_train.index)\n",
    "X_test_scaled = pd.DataFrame(sc.transform(X_test), columns=X_test.columns, index=X_test.index)"
   ]
  },
  {
   "cell_type": "markdown",
   "metadata": {},
   "source": [
    "Save (mean, variance) values as `numpy` arrays for use with saved model when deployed."
   ]
  },
  {
   "cell_type": "code",
   "execution_count": 16,
   "metadata": {},
   "outputs": [],
   "source": [
    "X_train_mean = sc.fit(X_train).mean_\n",
    "X_train_var = sc.fit(X_train).scale_\n",
    "\n",
    "np.save('RF_FAULT_mean', X_train_mean, allow_pickle=False)\n",
    "np.save('RF_FAULT_var', X_train_var, allow_pickle=False)"
   ]
  },
  {
   "cell_type": "markdown",
   "metadata": {},
   "source": [
    "Import libraries containing performance metrics and models."
   ]
  },
  {
   "cell_type": "code",
   "execution_count": 17,
   "metadata": {},
   "outputs": [],
   "source": [
    "from sklearn.metrics import accuracy_score, classification_report, confusion_matrix\n",
    "from sklearn.model_selection import KFold\n",
    "from sklearn.model_selection import cross_val_score\n",
    "\n",
    "from sklearn.neighbors import KNeighborsClassifier\n",
    "from sklearn.tree import DecisionTreeClassifier\n",
    "from sklearn.svm import SVC\n",
    "from sklearn.naive_bayes import GaussianNB\n",
    "from sklearn.ensemble import BaggingClassifier\n",
    "from sklearn.ensemble import RandomForestClassifier\n",
    "from sklearn.ensemble import ExtraTreesClassifier\n",
    "from sklearn.ensemble import GradientBoostingClassifier\n",
    "from sklearn.ensemble import AdaBoostClassifier\n",
    "\n",
    "from matplotlib import pyplot"
   ]
  },
  {
   "cell_type": "markdown",
   "metadata": {},
   "source": [
    "Evaluate models using code from *\"Machine Learning Mastery with Python\"*.<br>\n",
    "Model performance is evaluated using _k_-folds cross-validation, so the test set remains untouched."
   ]
  },
  {
   "cell_type": "code",
   "execution_count": 22,
   "metadata": {},
   "outputs": [
    {
     "name": "stdout",
     "output_type": "stream",
     "text": [
      "KNN: 0.839778 (0.057792)\n",
      "DT: 0.809436 (0.094806)\n",
      "SVC: 0.900555 (0.046479)\n",
      "BAYES: 0.818316 (0.115261)\n",
      "BAG: 0.926642 (0.050094)\n",
      "RF: 0.956892 (0.030225)\n",
      "XT: 0.948196 (0.040006)\n",
      "GBM: 0.935153 (0.038688)\n"
     ]
    }
   ],
   "source": [
    "# prepare models\n",
    "models = []\n",
    "#non-linear models\n",
    "models.append(('KNN', KNeighborsClassifier(n_neighbors=4)))\n",
    "models.append(('DT', DecisionTreeClassifier()))\n",
    "models.append(('SVC', SVC(gamma='auto')))\n",
    "models.append(('BAYES', GaussianNB()))\n",
    "# ensemble models\n",
    "models.append(('BAG', BaggingClassifier(n_estimators=100)))\n",
    "models.append(('RF', RandomForestClassifier(n_estimators=100)))\n",
    "models.append(('XT', ExtraTreesClassifier(n_estimators=100)))\n",
    "models.append(('GBM', GradientBoostingClassifier(n_estimators=100)))\n",
    "#models.append(('AB', AdaBoostClassifier(n_estimators=100)))\n",
    "\n",
    "# evaluate each model in turn\n",
    "results = []\n",
    "names = []\n",
    "scoring = 'accuracy'\n",
    "for name, model in models:\n",
    "    kfold = KFold(n_splits=5, random_state=7)\n",
    "    cv_results = cross_val_score(model, X_train_scaled, np.ravel(y_train), cv=kfold, scoring=scoring)\n",
    "    results.append(cv_results)\n",
    "    names.append(name)\n",
    "    msg = \"%s: %f (%f)\" % (name, cv_results.mean(), cv_results.std())\n",
    "    print(msg)"
   ]
  },
  {
   "cell_type": "code",
   "execution_count": 23,
   "metadata": {},
   "outputs": [
    {
     "data": {
      "text/plain": [
       "['KNN', 'DT', 'SVC', 'BAYES', 'BAG', 'RF', 'XT', 'GBM']"
      ]
     },
     "execution_count": 23,
     "metadata": {},
     "output_type": "execute_result"
    }
   ],
   "source": [
    "np.save('FAULT_CV_results', results, allow_pickle=False)\n",
    "names"
   ]
  },
  {
   "cell_type": "code",
   "execution_count": 24,
   "metadata": {},
   "outputs": [
    {
     "data": {
      "image/png": "[encoded data removed]",
      "text/plain": [
       "<Figure size 864x432 with 1 Axes>"
      ]
     },
     "metadata": {
      "needs_background": "light"
     },
     "output_type": "display_data"
    }
   ],
   "source": [
    "# boxplot algorithm comparison\n",
    "fig = pyplot.figure(figsize=(12,6))\n",
    "fig.suptitle('Algorithm Comparison')\n",
    "ax = fig.add_subplot(111)\n",
    "pyplot.boxplot(results)\n",
    "ax.set_xticklabels(names)\n",
    "pyplot.ylim((0.5,1))\n",
    "pyplot.show()"
   ]
  },
  {
   "cell_type": "markdown",
   "metadata": {},
   "source": [
    "Choose the `RandomForest` for its performance and also robustness against overfitting. Use `GridSearch` to perform hyperparameter tuning."
   ]
  },
  {
   "cell_type": "code",
   "execution_count": 25,
   "metadata": {},
   "outputs": [],
   "source": [
    "from sklearn.model_selection import GridSearchCV\n",
    "parameter_candidates = {'n_estimators': np.arange(25,250,25), 'min_samples_split': np.arange(2,18,1), 'max_depth': np.arange(2,18,1)}"
   ]
  },
  {
   "cell_type": "code",
   "execution_count": 26,
   "metadata": {
    "scrolled": true
   },
   "outputs": [
    {
     "name": "stdout",
     "output_type": "stream",
     "text": [
      "Fitting 5 folds for each of 2304 candidates, totalling 11520 fits\n"
     ]
    },
    {
     "name": "stderr",
     "output_type": "stream",
     "text": [
      "[Parallel(n_jobs=1)]: Using backend SequentialBackend with 1 concurrent workers.\n",
      "[Parallel(n_jobs=1)]: Done 11520 out of 11520 | elapsed: 97.4min finished\n",
      "C:\\ProgramData\\Anaconda3\\lib\\site-packages\\sklearn\\model_selection\\_search.py:841: DeprecationWarning: The default of the `iid` parameter will change from True to False in version 0.22 and will be removed in 0.24. This will change numeric results when test-set sizes are unequal.\n",
      "  DeprecationWarning)\n"
     ]
    },
    {
     "name": "stdout",
     "output_type": "stream",
     "text": [
      "Wall time: 1h 37min 23s\n"
     ]
    },
    {
     "data": {
      "text/plain": [
       "GridSearchCV(cv=5, error_score='raise-deprecating',\n",
       "       estimator=RandomForestClassifier(bootstrap=True, class_weight=None, criterion='gini',\n",
       "            max_depth=None, max_features='auto', max_leaf_nodes=None,\n",
       "            min_impurity_decrease=0.0, min_impurity_split=None,\n",
       "            min_samples_leaf=1, min_samples_split=2,\n",
       "            min_weight_fraction_leaf=0.0, n_estimators='warn', n_jobs=None,\n",
       "            oob_score=False, random_state=None, verbose=0,\n",
       "            warm_start=False),\n",
       "       fit_params=None, iid='warn', n_jobs=None,\n",
       "       param_grid={'n_estimators': array([ 25,  50,  75, 100, 125, 150, 175, 200, 225]), 'min_samples_split': array([ 2,  3,  4,  5,  6,  7,  8,  9, 10, 11, 12, 13, 14, 15, 16, 17]), 'max_depth': array([ 2,  3,  4,  5,  6,  7,  8,  9, 10, 11, 12, 13, 14, 15, 16, 17])},\n",
       "       pre_dispatch='2*n_jobs', refit=True, return_train_score='warn',\n",
       "       scoring=None, verbose=1)"
      ]
     },
     "execution_count": 26,
     "metadata": {},
     "output_type": "execute_result"
    }
   ],
   "source": [
    "# create a classifier object with the classifier and parameter candidates\n",
    "clf = GridSearchCV(estimator=RandomForestClassifier(), param_grid=parameter_candidates, verbose=1, cv=5)\n",
    "\n",
    "# train the classifier \n",
    "%time clf.fit(X_train_scaled, np.ravel(y_train)) "
   ]
  },
  {
   "cell_type": "code",
   "execution_count": 27,
   "metadata": {},
   "outputs": [
    {
     "name": "stdout",
     "output_type": "stream",
     "text": [
      "Best accuracy score for training data: 0.9696969696969697\n",
      "Best min_samples_split: 5\n",
      "Best max_depth: 5\n",
      "Best n_estimators: 125\n"
     ]
    }
   ],
   "source": [
    "# view the accuracy score\n",
    "print('Best accuracy score for training data:', clf.best_score_) \n",
    "\n",
    "# view the best parameters for the model found using grid search\n",
    "print('Best min_samples_split:', clf.best_estimator_.min_samples_split)\n",
    "print('Best max_depth:', clf.best_estimator_.max_depth)\n",
    "print('Best n_estimators:', clf.best_estimator_.n_estimators)"
   ]
  },
  {
   "cell_type": "markdown",
   "metadata": {},
   "source": [
    "Use the best parameters to define the model."
   ]
  },
  {
   "cell_type": "code",
   "execution_count": 28,
   "metadata": {},
   "outputs": [
    {
     "name": "stdout",
     "output_type": "stream",
     "text": [
      "0.8787878787878788\n"
     ]
    }
   ],
   "source": [
    "RF_model = RandomForestClassifier(n_estimators=125, max_depth=5, min_samples_split=5, max_features=None, random_state=11)\n",
    "RF_model.fit(X_train_scaled, np.ravel(y_train))\n",
    "print(RF_model.score(X_test_scaled, np.ravel(y_test)))"
   ]
  },
  {
   "cell_type": "code",
   "execution_count": 18,
   "metadata": {},
   "outputs": [
    {
     "data": {
      "text/plain": [
       "3    42\n",
       "2    34\n",
       "1    15\n",
       "0     8\n",
       "dtype: int64"
      ]
     },
     "execution_count": 18,
     "metadata": {},
     "output_type": "execute_result"
    }
   ],
   "source": [
    "y_test.value_counts()"
   ]
  },
  {
   "cell_type": "markdown",
   "metadata": {},
   "source": [
    "Save final `RandomForestClassifier` model using `joblib` (more [here](https://chrisalbon.com/machine_learning/basics/saving_machine_learning_models/)). Note, this model has been trained on *ALL* the features."
   ]
  },
  {
   "cell_type": "code",
   "execution_count": 30,
   "metadata": {},
   "outputs": [],
   "source": [
    "# save model using joblib\n",
    "from sklearn.externals import joblib\n",
    "from sklearn.externals import joblib\n",
    "\n",
    "filename_joblib = 'RF_FAULT_12172019_TMP.sav'\n",
    "#joblib.dump(RF_model, filename_joblib)\n",
    "\n",
    "# save model using pickle\n",
    "from pickle import dump\n",
    "from pickle import load\n",
    "\n",
    "filename_pickle = 'RF_FAULT.pkl'\n",
    "#dump(RF_model, open(filename_pickle, 'wb'))"
   ]
  },
  {
   "cell_type": "markdown",
   "metadata": {},
   "source": [
    "Having trained a good `RandomForestClassifier`, need to compute the top *N* features."
   ]
  },
  {
   "cell_type": "code",
   "execution_count": 31,
   "metadata": {
    "scrolled": false
   },
   "outputs": [
    {
     "data": {
      "image/png": "[encoded data removed]",
      "text/plain": [
       "<Figure size 432x288 with 1 Axes>"
      ]
     },
     "metadata": {
      "needs_background": "light"
     },
     "output_type": "display_data"
    }
   ],
   "source": [
    "feat_importances = pd.Series(RF_model.fit(X_train_scaled, np.ravel(y_train)).feature_importances_, index=X_train_scaled.columns)\n",
    "feat_importances.nlargest(15).plot(kind='barh');"
   ]
  },
  {
   "cell_type": "code",
   "execution_count": 32,
   "metadata": {
    "scrolled": false
   },
   "outputs": [
    {
     "data": {
      "text/plain": [
       "['GMES__fft_coefficient__coeff_16__attr_\"real\"',\n",
       " 'PLDE__fft_coefficient__coeff_16__attr_\"real\"',\n",
       " 'GMES__fft_coefficient__coeff_11__attr_\"angle\"',\n",
       " 'PMES__index_mass_quantile__q_0.9',\n",
       " 'CRRP__fft_coefficient__coeff_64__attr_\"imag\"',\n",
       " 'CRRP__fft_coefficient__coeff_79__attr_\"abs\"',\n",
       " 'CRFP__ar_coefficient__k_10__coeff_1',\n",
       " 'GMES__fft_coefficient__coeff_63__attr_\"imag\"',\n",
       " 'PMES__fft_coefficient__coeff_0__attr_\"abs\"',\n",
       " 'CRRP__maximum',\n",
       " 'PMES__index_mass_quantile__q_0.8',\n",
       " 'GMES__fft_coefficient__coeff_30__attr_\"imag\"',\n",
       " 'GMES__fft_coefficient__coeff_79__attr_\"angle\"',\n",
       " 'IMES__change_quantiles__f_agg_\"var\"__isabs_True__qh_1.0__ql_0.8',\n",
       " 'IMES__fft_coefficient__coeff_2__attr_\"abs\"',\n",
       " 'PLDE__minimum',\n",
       " 'PLDE__fft_coefficient__coeff_28__attr_\"real\"',\n",
       " 'IMES__change_quantiles__f_agg_\"var\"__isabs_False__qh_1.0__ql_0.8',\n",
       " 'CRRP__agg_linear_trend__f_agg_\"min\"__chunk_len_10__attr_\"stderr\"',\n",
       " 'DFQES__fft_coefficient__coeff_52__attr_\"abs\"',\n",
       " 'CRRP__approximate_entropy__m_2__r_0.5',\n",
       " 'CRRP__fft_coefficient__coeff_29__attr_\"abs\"',\n",
       " 'CRRP__fft_coefficient__coeff_48__attr_\"imag\"',\n",
       " 'DFQES__ratio_value_number_to_time_series_length',\n",
       " 'PMES__number_peaks__n_5',\n",
       " 'PMES__energy_ratio_by_chunks__num_segments_10__segment_focus_5',\n",
       " 'PLDE__fft_coefficient__coeff_49__attr_\"angle\"',\n",
       " 'IMES__agg_linear_trend__f_agg_\"max\"__chunk_len_10__attr_\"slope\"',\n",
       " 'CRRP__agg_linear_trend__f_agg_\"var\"__chunk_len_10__attr_\"intercept\"',\n",
       " 'GASK__ar_coefficient__k_10__coeff_1',\n",
       " 'CRRP__fft_coefficient__coeff_75__attr_\"angle\"',\n",
       " 'IASK__fft_coefficient__coeff_45__attr_\"abs\"',\n",
       " 'DETA2__number_peaks__n_3',\n",
       " 'CRFPP__percentage_of_reoccurring_values_to_all_values',\n",
       " 'CRRP__fft_coefficient__coeff_64__attr_\"angle\"',\n",
       " 'GMES__fft_coefficient__coeff_28__attr_\"real\"',\n",
       " 'CRRP__fft_coefficient__coeff_31__attr_\"abs\"',\n",
       " 'CRRP__fft_coefficient__coeff_96__attr_\"imag\"',\n",
       " 'GASK__ratio_beyond_r_sigma__r_10',\n",
       " 'PLDE__fft_coefficient__coeff_33__attr_\"real\"',\n",
       " 'CRRP__fft_coefficient__coeff_33__attr_\"abs\"',\n",
       " 'CRRP__standard_deviation',\n",
       " 'GMES__spkt_welch_density__coeff_5',\n",
       " 'CRRP__fft_coefficient__coeff_76__attr_\"abs\"',\n",
       " 'PLDE__fft_coefficient__coeff_17__attr_\"abs\"',\n",
       " 'DFQES__fft_coefficient__coeff_51__attr_\"abs\"',\n",
       " 'CRFP__time_reversal_asymmetry_statistic__lag_1',\n",
       " 'DFQES__fft_coefficient__coeff_50__attr_\"real\"',\n",
       " 'IMES__linear_trend__attr_\"rvalue\"',\n",
       " 'PMES__energy_ratio_by_chunks__num_segments_10__segment_focus_9']"
      ]
     },
     "execution_count": 32,
     "metadata": {},
     "output_type": "execute_result"
    }
   ],
   "source": [
    "RF_top50 = [feat_importances.nlargest(50).index[x] for x in range(50)]\n",
    "RF_top50"
   ]
  },
  {
   "cell_type": "code",
   "execution_count": 19,
   "metadata": {},
   "outputs": [],
   "source": [
    "RF_top50=['GMES__fft_coefficient__coeff_16__attr_\"real\"',\n",
    " 'PLDE__fft_coefficient__coeff_16__attr_\"real\"',\n",
    " 'GMES__fft_coefficient__coeff_11__attr_\"angle\"',\n",
    " 'PMES__index_mass_quantile__q_0.9',\n",
    " 'CRRP__fft_coefficient__coeff_64__attr_\"imag\"',\n",
    " 'CRRP__fft_coefficient__coeff_79__attr_\"abs\"',\n",
    " 'CRFP__ar_coefficient__k_10__coeff_1',\n",
    " 'GMES__fft_coefficient__coeff_63__attr_\"imag\"',\n",
    " 'PMES__fft_coefficient__coeff_0__attr_\"abs\"',\n",
    " 'CRRP__maximum',\n",
    " 'PMES__index_mass_quantile__q_0.8',\n",
    " 'GMES__fft_coefficient__coeff_30__attr_\"imag\"',\n",
    " 'GMES__fft_coefficient__coeff_79__attr_\"angle\"',\n",
    " 'IMES__change_quantiles__f_agg_\"var\"__isabs_True__qh_1.0__ql_0.8',\n",
    " 'IMES__fft_coefficient__coeff_2__attr_\"abs\"',\n",
    " 'PLDE__minimum',\n",
    " 'PLDE__fft_coefficient__coeff_28__attr_\"real\"',\n",
    " 'IMES__change_quantiles__f_agg_\"var\"__isabs_False__qh_1.0__ql_0.8',\n",
    " 'CRRP__agg_linear_trend__f_agg_\"min\"__chunk_len_10__attr_\"stderr\"',\n",
    " 'DFQES__fft_coefficient__coeff_52__attr_\"abs\"',\n",
    " 'CRRP__approximate_entropy__m_2__r_0.5',\n",
    " 'CRRP__fft_coefficient__coeff_29__attr_\"abs\"',\n",
    " 'CRRP__fft_coefficient__coeff_48__attr_\"imag\"',\n",
    " 'DFQES__ratio_value_number_to_time_series_length',\n",
    " 'PMES__number_peaks__n_5',\n",
    " 'PMES__energy_ratio_by_chunks__num_segments_10__segment_focus_5',\n",
    " 'PLDE__fft_coefficient__coeff_49__attr_\"angle\"',\n",
    " 'IMES__agg_linear_trend__f_agg_\"max\"__chunk_len_10__attr_\"slope\"',\n",
    " 'CRRP__agg_linear_trend__f_agg_\"var\"__chunk_len_10__attr_\"intercept\"',\n",
    " 'GASK__ar_coefficient__k_10__coeff_1',\n",
    " 'CRRP__fft_coefficient__coeff_75__attr_\"angle\"',\n",
    " 'IASK__fft_coefficient__coeff_45__attr_\"abs\"',\n",
    " 'DETA2__number_peaks__n_3',\n",
    " 'CRFPP__percentage_of_reoccurring_values_to_all_values',\n",
    " 'CRRP__fft_coefficient__coeff_64__attr_\"angle\"',\n",
    " 'GMES__fft_coefficient__coeff_28__attr_\"real\"',\n",
    " 'CRRP__fft_coefficient__coeff_31__attr_\"abs\"',\n",
    " 'CRRP__fft_coefficient__coeff_96__attr_\"imag\"',\n",
    " 'GASK__ratio_beyond_r_sigma__r_10',\n",
    " 'PLDE__fft_coefficient__coeff_33__attr_\"real\"',\n",
    " 'CRRP__fft_coefficient__coeff_33__attr_\"abs\"',\n",
    " 'CRRP__standard_deviation',\n",
    " 'GMES__spkt_welch_density__coeff_5',\n",
    " 'CRRP__fft_coefficient__coeff_76__attr_\"abs\"',\n",
    " 'PLDE__fft_coefficient__coeff_17__attr_\"abs\"',\n",
    " 'DFQES__fft_coefficient__coeff_51__attr_\"abs\"',\n",
    " 'CRFP__time_reversal_asymmetry_statistic__lag_1',\n",
    " 'DFQES__fft_coefficient__coeff_50__attr_\"real\"',\n",
    " 'IMES__linear_trend__attr_\"rvalue\"',\n",
    " 'PMES__energy_ratio_by_chunks__num_segments_10__segment_focus_9']"
   ]
  },
  {
   "cell_type": "code",
   "execution_count": 20,
   "metadata": {},
   "outputs": [],
   "source": [
    "X_train_scaled_top50 = X_train_scaled[RF_top50]\n",
    "X_test_scaled_top50 = X_test_scaled[RF_top50]"
   ]
  },
  {
   "cell_type": "code",
   "execution_count": 21,
   "metadata": {},
   "outputs": [
    {
     "data": {
      "text/plain": [
       "((231, 50), (99, 50), (231,), (99,))"
      ]
     },
     "execution_count": 21,
     "metadata": {},
     "output_type": "execute_result"
    }
   ],
   "source": [
    "X_train_scaled_top50.shape, X_test_scaled_top50.shape, y_train.shape, y_test.shape"
   ]
  },
  {
   "cell_type": "code",
   "execution_count": 22,
   "metadata": {},
   "outputs": [
    {
     "name": "stdout",
     "output_type": "stream",
     "text": [
      "True\n"
     ]
    }
   ],
   "source": [
    "a = list(X_train_scaled_top50.columns)\n",
    "b = list(X_test_scaled_top50.columns)\n",
    "print(a == b)"
   ]
  },
  {
   "cell_type": "code",
   "execution_count": 23,
   "metadata": {},
   "outputs": [],
   "source": [
    "X_train_scaled_top50.to_csv('X_fault_train_scaled_top50.csv')\n",
    "y_train.to_csv('y_fault_train.csv')\n",
    "X_test_scaled_top50.to_csv('X_fault_test_scaled_top50.csv')\n",
    "y_test.to_csv('y_fault_test.csv')"
   ]
  },
  {
   "cell_type": "code",
   "execution_count": 24,
   "metadata": {},
   "outputs": [],
   "source": [
    "test = pd.read_csv('X_fault_train_scaled_top50.csv')"
   ]
  },
  {
   "cell_type": "code",
   "execution_count": 25,
   "metadata": {},
   "outputs": [
    {
     "data": {
      "text/html": [
       "<div>\n",
       "<style scoped>\n",
       "    .dataframe tbody tr th:only-of-type {\n",
       "        vertical-align: middle;\n",
       "    }\n",
       "\n",
       "    .dataframe tbody tr th {\n",
       "        vertical-align: top;\n",
       "    }\n",
       "\n",
       "    .dataframe thead th {\n",
       "        text-align: right;\n",
       "    }\n",
       "</style>\n",
       "<table border=\"1\" class=\"dataframe\">\n",
       "  <thead>\n",
       "    <tr style=\"text-align: right;\">\n",
       "      <th></th>\n",
       "      <th>Unnamed: 0</th>\n",
       "      <th>GMES__fft_coefficient__coeff_16__attr_\"real\"</th>\n",
       "      <th>PLDE__fft_coefficient__coeff_16__attr_\"real\"</th>\n",
       "      <th>GMES__fft_coefficient__coeff_11__attr_\"angle\"</th>\n",
       "      <th>PMES__index_mass_quantile__q_0.9</th>\n",
       "      <th>CRRP__fft_coefficient__coeff_64__attr_\"imag\"</th>\n",
       "      <th>CRRP__fft_coefficient__coeff_79__attr_\"abs\"</th>\n",
       "      <th>CRFP__ar_coefficient__k_10__coeff_1</th>\n",
       "      <th>GMES__fft_coefficient__coeff_63__attr_\"imag\"</th>\n",
       "      <th>PMES__fft_coefficient__coeff_0__attr_\"abs\"</th>\n",
       "      <th>...</th>\n",
       "      <th>CRRP__fft_coefficient__coeff_33__attr_\"abs\"</th>\n",
       "      <th>CRRP__standard_deviation</th>\n",
       "      <th>GMES__spkt_welch_density__coeff_5</th>\n",
       "      <th>CRRP__fft_coefficient__coeff_76__attr_\"abs\"</th>\n",
       "      <th>PLDE__fft_coefficient__coeff_17__attr_\"abs\"</th>\n",
       "      <th>DFQES__fft_coefficient__coeff_51__attr_\"abs\"</th>\n",
       "      <th>CRFP__time_reversal_asymmetry_statistic__lag_1</th>\n",
       "      <th>DFQES__fft_coefficient__coeff_50__attr_\"real\"</th>\n",
       "      <th>IMES__linear_trend__attr_\"rvalue\"</th>\n",
       "      <th>PMES__energy_ratio_by_chunks__num_segments_10__segment_focus_9</th>\n",
       "    </tr>\n",
       "  </thead>\n",
       "  <tbody>\n",
       "    <tr>\n",
       "      <th>0</th>\n",
       "      <td>121</td>\n",
       "      <td>0.944140</td>\n",
       "      <td>-0.945822</td>\n",
       "      <td>-0.571573</td>\n",
       "      <td>-0.456273</td>\n",
       "      <td>-0.915456</td>\n",
       "      <td>-0.515893</td>\n",
       "      <td>-1.851807</td>\n",
       "      <td>-1.275763</td>\n",
       "      <td>1.797629</td>\n",
       "      <td>...</td>\n",
       "      <td>-0.400720</td>\n",
       "      <td>-0.722057</td>\n",
       "      <td>-0.497111</td>\n",
       "      <td>-0.588638</td>\n",
       "      <td>-0.152705</td>\n",
       "      <td>-0.764556</td>\n",
       "      <td>0.002563</td>\n",
       "      <td>-0.039950</td>\n",
       "      <td>1.375137</td>\n",
       "      <td>-0.695581</td>\n",
       "    </tr>\n",
       "    <tr>\n",
       "      <th>1</th>\n",
       "      <td>305</td>\n",
       "      <td>-1.933479</td>\n",
       "      <td>1.805509</td>\n",
       "      <td>2.036245</td>\n",
       "      <td>-0.041166</td>\n",
       "      <td>1.771568</td>\n",
       "      <td>0.153904</td>\n",
       "      <td>0.870173</td>\n",
       "      <td>1.513172</td>\n",
       "      <td>-0.143594</td>\n",
       "      <td>...</td>\n",
       "      <td>0.643408</td>\n",
       "      <td>0.743607</td>\n",
       "      <td>-0.326897</td>\n",
       "      <td>0.514710</td>\n",
       "      <td>1.693817</td>\n",
       "      <td>0.655756</td>\n",
       "      <td>0.007198</td>\n",
       "      <td>0.218160</td>\n",
       "      <td>-0.157215</td>\n",
       "      <td>-0.267577</td>\n",
       "    </tr>\n",
       "    <tr>\n",
       "      <th>2</th>\n",
       "      <td>79</td>\n",
       "      <td>0.333563</td>\n",
       "      <td>-0.356297</td>\n",
       "      <td>-0.395181</td>\n",
       "      <td>-0.465043</td>\n",
       "      <td>-0.146850</td>\n",
       "      <td>0.554604</td>\n",
       "      <td>0.663358</td>\n",
       "      <td>0.247009</td>\n",
       "      <td>0.836680</td>\n",
       "      <td>...</td>\n",
       "      <td>-0.311989</td>\n",
       "      <td>-0.406083</td>\n",
       "      <td>0.023278</td>\n",
       "      <td>0.273114</td>\n",
       "      <td>-0.910231</td>\n",
       "      <td>-0.020368</td>\n",
       "      <td>0.005585</td>\n",
       "      <td>-1.313188</td>\n",
       "      <td>0.780169</td>\n",
       "      <td>-0.585223</td>\n",
       "    </tr>\n",
       "    <tr>\n",
       "      <th>3</th>\n",
       "      <td>85</td>\n",
       "      <td>0.588786</td>\n",
       "      <td>-0.599067</td>\n",
       "      <td>-0.444755</td>\n",
       "      <td>0.660423</td>\n",
       "      <td>-0.630408</td>\n",
       "      <td>-0.696037</td>\n",
       "      <td>-0.653876</td>\n",
       "      <td>-0.458208</td>\n",
       "      <td>0.343610</td>\n",
       "      <td>...</td>\n",
       "      <td>-0.845446</td>\n",
       "      <td>-0.737205</td>\n",
       "      <td>-0.198013</td>\n",
       "      <td>-0.783526</td>\n",
       "      <td>-1.202018</td>\n",
       "      <td>-0.707056</td>\n",
       "      <td>0.003498</td>\n",
       "      <td>-0.144114</td>\n",
       "      <td>-0.368715</td>\n",
       "      <td>0.167634</td>\n",
       "    </tr>\n",
       "    <tr>\n",
       "      <th>4</th>\n",
       "      <td>307</td>\n",
       "      <td>-1.959233</td>\n",
       "      <td>1.830222</td>\n",
       "      <td>1.987527</td>\n",
       "      <td>-0.032397</td>\n",
       "      <td>1.565341</td>\n",
       "      <td>-0.227540</td>\n",
       "      <td>0.613107</td>\n",
       "      <td>1.407932</td>\n",
       "      <td>-0.144442</td>\n",
       "      <td>...</td>\n",
       "      <td>0.678254</td>\n",
       "      <td>0.759957</td>\n",
       "      <td>-0.265326</td>\n",
       "      <td>0.512883</td>\n",
       "      <td>1.712746</td>\n",
       "      <td>0.515904</td>\n",
       "      <td>0.007924</td>\n",
       "      <td>0.100418</td>\n",
       "      <td>-0.146118</td>\n",
       "      <td>-0.268508</td>\n",
       "    </tr>\n",
       "  </tbody>\n",
       "</table>\n",
       "<p>5 rows × 51 columns</p>\n",
       "</div>"
      ],
      "text/plain": [
       "   Unnamed: 0  GMES__fft_coefficient__coeff_16__attr_\"real\"  \\\n",
       "0         121                                      0.944140   \n",
       "1         305                                     -1.933479   \n",
       "2          79                                      0.333563   \n",
       "3          85                                      0.588786   \n",
       "4         307                                     -1.959233   \n",
       "\n",
       "   PLDE__fft_coefficient__coeff_16__attr_\"real\"  \\\n",
       "0                                     -0.945822   \n",
       "1                                      1.805509   \n",
       "2                                     -0.356297   \n",
       "3                                     -0.599067   \n",
       "4                                      1.830222   \n",
       "\n",
       "   GMES__fft_coefficient__coeff_11__attr_\"angle\"  \\\n",
       "0                                      -0.571573   \n",
       "1                                       2.036245   \n",
       "2                                      -0.395181   \n",
       "3                                      -0.444755   \n",
       "4                                       1.987527   \n",
       "\n",
       "   PMES__index_mass_quantile__q_0.9  \\\n",
       "0                         -0.456273   \n",
       "1                         -0.041166   \n",
       "2                         -0.465043   \n",
       "3                          0.660423   \n",
       "4                         -0.032397   \n",
       "\n",
       "   CRRP__fft_coefficient__coeff_64__attr_\"imag\"  \\\n",
       "0                                     -0.915456   \n",
       "1                                      1.771568   \n",
       "2                                     -0.146850   \n",
       "3                                     -0.630408   \n",
       "4                                      1.565341   \n",
       "\n",
       "   CRRP__fft_coefficient__coeff_79__attr_\"abs\"  \\\n",
       "0                                    -0.515893   \n",
       "1                                     0.153904   \n",
       "2                                     0.554604   \n",
       "3                                    -0.696037   \n",
       "4                                    -0.227540   \n",
       "\n",
       "   CRFP__ar_coefficient__k_10__coeff_1  \\\n",
       "0                            -1.851807   \n",
       "1                             0.870173   \n",
       "2                             0.663358   \n",
       "3                            -0.653876   \n",
       "4                             0.613107   \n",
       "\n",
       "   GMES__fft_coefficient__coeff_63__attr_\"imag\"  \\\n",
       "0                                     -1.275763   \n",
       "1                                      1.513172   \n",
       "2                                      0.247009   \n",
       "3                                     -0.458208   \n",
       "4                                      1.407932   \n",
       "\n",
       "   PMES__fft_coefficient__coeff_0__attr_\"abs\"  \\\n",
       "0                                    1.797629   \n",
       "1                                   -0.143594   \n",
       "2                                    0.836680   \n",
       "3                                    0.343610   \n",
       "4                                   -0.144442   \n",
       "\n",
       "                                ...                                \\\n",
       "0                               ...                                 \n",
       "1                               ...                                 \n",
       "2                               ...                                 \n",
       "3                               ...                                 \n",
       "4                               ...                                 \n",
       "\n",
       "   CRRP__fft_coefficient__coeff_33__attr_\"abs\"  CRRP__standard_deviation  \\\n",
       "0                                    -0.400720                 -0.722057   \n",
       "1                                     0.643408                  0.743607   \n",
       "2                                    -0.311989                 -0.406083   \n",
       "3                                    -0.845446                 -0.737205   \n",
       "4                                     0.678254                  0.759957   \n",
       "\n",
       "   GMES__spkt_welch_density__coeff_5  \\\n",
       "0                          -0.497111   \n",
       "1                          -0.326897   \n",
       "2                           0.023278   \n",
       "3                          -0.198013   \n",
       "4                          -0.265326   \n",
       "\n",
       "   CRRP__fft_coefficient__coeff_76__attr_\"abs\"  \\\n",
       "0                                    -0.588638   \n",
       "1                                     0.514710   \n",
       "2                                     0.273114   \n",
       "3                                    -0.783526   \n",
       "4                                     0.512883   \n",
       "\n",
       "   PLDE__fft_coefficient__coeff_17__attr_\"abs\"  \\\n",
       "0                                    -0.152705   \n",
       "1                                     1.693817   \n",
       "2                                    -0.910231   \n",
       "3                                    -1.202018   \n",
       "4                                     1.712746   \n",
       "\n",
       "   DFQES__fft_coefficient__coeff_51__attr_\"abs\"  \\\n",
       "0                                     -0.764556   \n",
       "1                                      0.655756   \n",
       "2                                     -0.020368   \n",
       "3                                     -0.707056   \n",
       "4                                      0.515904   \n",
       "\n",
       "   CRFP__time_reversal_asymmetry_statistic__lag_1  \\\n",
       "0                                        0.002563   \n",
       "1                                        0.007198   \n",
       "2                                        0.005585   \n",
       "3                                        0.003498   \n",
       "4                                        0.007924   \n",
       "\n",
       "   DFQES__fft_coefficient__coeff_50__attr_\"real\"  \\\n",
       "0                                      -0.039950   \n",
       "1                                       0.218160   \n",
       "2                                      -1.313188   \n",
       "3                                      -0.144114   \n",
       "4                                       0.100418   \n",
       "\n",
       "   IMES__linear_trend__attr_\"rvalue\"  \\\n",
       "0                           1.375137   \n",
       "1                          -0.157215   \n",
       "2                           0.780169   \n",
       "3                          -0.368715   \n",
       "4                          -0.146118   \n",
       "\n",
       "   PMES__energy_ratio_by_chunks__num_segments_10__segment_focus_9  \n",
       "0                                          -0.695581               \n",
       "1                                          -0.267577               \n",
       "2                                          -0.585223               \n",
       "3                                           0.167634               \n",
       "4                                          -0.268508               \n",
       "\n",
       "[5 rows x 51 columns]"
      ]
     },
     "execution_count": 25,
     "metadata": {},
     "output_type": "execute_result"
    }
   ],
   "source": [
    "test.head()"
   ]
  },
  {
   "cell_type": "code",
   "execution_count": 26,
   "metadata": {},
   "outputs": [
    {
     "data": {
      "text/plain": [
       "121    3\n",
       "305    2\n",
       "79     2\n",
       "85     3\n",
       "307    2\n",
       "dtype: int32"
      ]
     },
     "execution_count": 26,
     "metadata": {},
     "output_type": "execute_result"
    }
   ],
   "source": [
    "y_train.head()"
   ]
  },
  {
   "cell_type": "code",
   "execution_count": null,
   "metadata": {},
   "outputs": [],
   "source": []
  }
 ],
 "metadata": {
  "kernelspec": {
   "display_name": "Python 3",
   "language": "python",
   "name": "python3"
  },
  "language_info": {
   "codemirror_mode": {
    "name": "ipython",
    "version": 3
   },
   "file_extension": ".py",
   "mimetype": "text/x-python",
   "name": "python",
   "nbconvert_exporter": "python",
   "pygments_lexer": "ipython3",
   "version": "3.6.4"
  }
 },
 "nbformat": 4,
 "nbformat_minor": 2
}
