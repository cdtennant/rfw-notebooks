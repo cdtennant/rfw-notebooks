{
 "cells": [
  {
   "cell_type": "markdown",
   "metadata": {},
   "source": [
    "_December 18, 2019_"
   ]
  },
  {
   "cell_type": "markdown",
   "metadata": {},
   "source": [
    "### CAVITY ID"
   ]
  },
  {
   "cell_type": "code",
   "execution_count": 50,
   "metadata": {},
   "outputs": [],
   "source": [
    "import pandas as pd\n",
    "import matplotlib.pyplot as plt\n",
    "import numpy as np\n",
    "from pathlib import Path\n",
    "\n",
    "dir = Path('C:/Users/tennant/Desktop/rfw_tsf_extractor-Spring-2018/extracted')"
   ]
  },
  {
   "cell_type": "code",
   "execution_count": 51,
   "metadata": {},
   "outputs": [],
   "source": [
    "y_cavity_master = pd.read_csv(dir/'y_cavity_master.csv')"
   ]
  },
  {
   "cell_type": "code",
   "execution_count": 52,
   "metadata": {},
   "outputs": [],
   "source": [
    "X_cavity_master = pd.read_csv(dir/'X_cavity_master.csv')"
   ]
  },
  {
   "cell_type": "code",
   "execution_count": 53,
   "metadata": {},
   "outputs": [],
   "source": [
    "y_cavity_master = y_cavity_master.drop(columns=['zone', 'time'])"
   ]
  },
  {
   "cell_type": "code",
   "execution_count": 54,
   "metadata": {},
   "outputs": [],
   "source": [
    "X_cavity_master = X_cavity_master.drop(columns=['zone', 'time'])"
   ]
  },
  {
   "cell_type": "code",
   "execution_count": 55,
   "metadata": {
    "scrolled": true
   },
   "outputs": [
    {
     "name": "stdout",
     "output_type": "stream",
     "text": [
      "Number of training examples: 348\n",
      "Number of features: 24128\n",
      "Number of categories: 9\n"
     ]
    }
   ],
   "source": [
    "print(\"Number of training examples: {}\".format(X_cavity_master.shape[0]))\n",
    "print(\"Number of features: {}\".format(X_cavity_master.shape[1]))\n",
    "print(\"Number of categories: {}\".format(y_cavity_master['label'].nunique()))"
   ]
  },
  {
   "cell_type": "code",
   "execution_count": 56,
   "metadata": {},
   "outputs": [],
   "source": [
    "X_cavity_master = X_cavity_master.filter(regex='fft_coefficient', axis=1)"
   ]
  },
  {
   "cell_type": "code",
   "execution_count": 57,
   "metadata": {},
   "outputs": [
    {
     "name": "stdout",
     "output_type": "stream",
     "text": [
      "Number of features: 12800\n",
      "400 'fft_coefficient' features per signal\n"
     ]
    }
   ],
   "source": [
    "print(\"Number of features: {}\".format(X_cavity_master.shape[1]))\n",
    "print(\"400 'fft_coefficient' features per signal\")"
   ]
  },
  {
   "cell_type": "code",
   "execution_count": 58,
   "metadata": {},
   "outputs": [],
   "source": [
    "X_cavity_mean = np.load('RF_CAVITY_fft_only_data_mean.npy')\n",
    "X_cavity_var  = np.load('RF_CAVITY_fft_only_data_var.npy')"
   ]
  },
  {
   "cell_type": "code",
   "execution_count": 59,
   "metadata": {},
   "outputs": [],
   "source": [
    "X_cavity_master = (X_cavity_master - X_cavity_mean) / X_cavity_var"
   ]
  },
  {
   "cell_type": "code",
   "execution_count": 60,
   "metadata": {},
   "outputs": [],
   "source": [
    "from sklearn.externals import joblib\n",
    "\n",
    "RF_cavity = joblib.load('RF_CAVITY_fft_only_data_12172019.sav')"
   ]
  },
  {
   "cell_type": "code",
   "execution_count": 61,
   "metadata": {
    "scrolled": true
   },
   "outputs": [
    {
     "name": "stdout",
     "output_type": "stream",
     "text": [
      "0.9827586206896551\n"
     ]
    }
   ],
   "source": [
    "print(RF_cavity.score(X_cavity_master, np.ravel(y_cavity_master)))"
   ]
  },
  {
   "cell_type": "code",
   "execution_count": 91,
   "metadata": {},
   "outputs": [],
   "source": [
    "#for i in range(134,155):\n",
    "#    print(RF_cavity.predict(X_cavity_master.iloc[[i]]), y_cavity_master.iloc[i])"
   ]
  },
  {
   "cell_type": "markdown",
   "metadata": {},
   "source": [
    "### FAULT ID"
   ]
  },
  {
   "cell_type": "code",
   "execution_count": 32,
   "metadata": {},
   "outputs": [],
   "source": [
    "y_fault_master = pd.read_csv(dir/'y_fault_master.csv')"
   ]
  },
  {
   "cell_type": "code",
   "execution_count": 33,
   "metadata": {},
   "outputs": [],
   "source": [
    "X_fault_master = pd.read_csv(dir/'X_fault_master.csv')"
   ]
  },
  {
   "cell_type": "code",
   "execution_count": 34,
   "metadata": {},
   "outputs": [],
   "source": [
    "y_fault_master = y_fault_master.drop(columns=['zone', 'time'])"
   ]
  },
  {
   "cell_type": "code",
   "execution_count": 35,
   "metadata": {},
   "outputs": [],
   "source": [
    "X_fault_master = X_fault_master.drop(columns=['zone', 'time'])"
   ]
  },
  {
   "cell_type": "code",
   "execution_count": 36,
   "metadata": {
    "scrolled": false
   },
   "outputs": [
    {
     "name": "stdout",
     "output_type": "stream",
     "text": [
      "Number of training examples: 330\n",
      "Number of features: 12818\n",
      "Number of categories: 4\n"
     ]
    }
   ],
   "source": [
    "print(\"Number of training examples: {}\".format(X_fault_master.shape[0]))\n",
    "print(\"Number of features: {}\".format(X_fault_master.shape[1]))\n",
    "print(\"Number of categories: {}\".format(y_fault_master['label'].nunique()))"
   ]
  },
  {
   "cell_type": "code",
   "execution_count": 38,
   "metadata": {},
   "outputs": [],
   "source": [
    "top50 = ['GMES__fft_coefficient__coeff_16__attr_\"real\"',\n",
    " 'PLDE__fft_coefficient__coeff_16__attr_\"real\"',\n",
    " 'GMES__fft_coefficient__coeff_11__attr_\"angle\"',\n",
    " 'PMES__index_mass_quantile__q_0.9',\n",
    " 'CRRP__fft_coefficient__coeff_64__attr_\"imag\"',\n",
    " 'CRRP__fft_coefficient__coeff_79__attr_\"abs\"',\n",
    " 'CRFP__ar_coefficient__k_10__coeff_1',\n",
    " 'GMES__fft_coefficient__coeff_63__attr_\"imag\"',\n",
    " 'PMES__fft_coefficient__coeff_0__attr_\"abs\"',\n",
    " 'CRRP__maximum',\n",
    " 'PMES__index_mass_quantile__q_0.8',\n",
    " 'GMES__fft_coefficient__coeff_30__attr_\"imag\"',\n",
    " 'GMES__fft_coefficient__coeff_79__attr_\"angle\"',\n",
    " 'IMES__change_quantiles__f_agg_\"var\"__isabs_True__qh_1.0__ql_0.8',\n",
    " 'IMES__fft_coefficient__coeff_2__attr_\"abs\"',\n",
    " 'PLDE__minimum',\n",
    " 'PLDE__fft_coefficient__coeff_28__attr_\"real\"',\n",
    " 'IMES__change_quantiles__f_agg_\"var\"__isabs_False__qh_1.0__ql_0.8',\n",
    " 'CRRP__agg_linear_trend__f_agg_\"min\"__chunk_len_10__attr_\"stderr\"',\n",
    " 'DFQES__fft_coefficient__coeff_52__attr_\"abs\"',\n",
    " 'CRRP__approximate_entropy__m_2__r_0.5',\n",
    " 'CRRP__fft_coefficient__coeff_29__attr_\"abs\"',\n",
    " 'CRRP__fft_coefficient__coeff_48__attr_\"imag\"',\n",
    " 'DFQES__ratio_value_number_to_time_series_length',\n",
    " 'PMES__number_peaks__n_5',\n",
    " 'PMES__energy_ratio_by_chunks__num_segments_10__segment_focus_5',\n",
    " 'PLDE__fft_coefficient__coeff_49__attr_\"angle\"',\n",
    " 'IMES__agg_linear_trend__f_agg_\"max\"__chunk_len_10__attr_\"slope\"',\n",
    " 'CRRP__agg_linear_trend__f_agg_\"var\"__chunk_len_10__attr_\"intercept\"',\n",
    " 'GASK__ar_coefficient__k_10__coeff_1',\n",
    " 'CRRP__fft_coefficient__coeff_75__attr_\"angle\"',\n",
    " 'IASK__fft_coefficient__coeff_45__attr_\"abs\"',\n",
    " 'DETA2__number_peaks__n_3',\n",
    " 'CRFPP__percentage_of_reoccurring_values_to_all_values',\n",
    " 'CRRP__fft_coefficient__coeff_64__attr_\"angle\"',\n",
    " 'GMES__fft_coefficient__coeff_28__attr_\"real\"',\n",
    " 'CRRP__fft_coefficient__coeff_31__attr_\"abs\"',\n",
    " 'CRRP__fft_coefficient__coeff_96__attr_\"imag\"',\n",
    " 'GASK__ratio_beyond_r_sigma__r_10',\n",
    " 'PLDE__fft_coefficient__coeff_33__attr_\"real\"',\n",
    " 'CRRP__fft_coefficient__coeff_33__attr_\"abs\"',\n",
    " 'CRRP__standard_deviation',\n",
    " 'GMES__spkt_welch_density__coeff_5',\n",
    " 'CRRP__fft_coefficient__coeff_76__attr_\"abs\"',\n",
    " 'PLDE__fft_coefficient__coeff_17__attr_\"abs\"',\n",
    " 'DFQES__fft_coefficient__coeff_51__attr_\"abs\"',\n",
    " 'CRFP__time_reversal_asymmetry_statistic__lag_1',\n",
    " 'DFQES__fft_coefficient__coeff_50__attr_\"real\"',\n",
    " 'IMES__linear_trend__attr_\"rvalue\"',\n",
    " 'PMES__energy_ratio_by_chunks__num_segments_10__segment_focus_9']"
   ]
  },
  {
   "cell_type": "code",
   "execution_count": 39,
   "metadata": {},
   "outputs": [],
   "source": [
    "X_fault_master = X_fault_master[top50]"
   ]
  },
  {
   "cell_type": "code",
   "execution_count": 40,
   "metadata": {},
   "outputs": [],
   "source": [
    "X_fault_mean = np.load('RF_FAULT_top50_mean.npy')\n",
    "X_fault_var  = np.load('RF_FAULT_top50_var.npy')"
   ]
  },
  {
   "cell_type": "code",
   "execution_count": 41,
   "metadata": {},
   "outputs": [],
   "source": [
    "X_fault_master = (X_fault_master - X_fault_mean) / X_fault_var"
   ]
  },
  {
   "cell_type": "code",
   "execution_count": 45,
   "metadata": {},
   "outputs": [
    {
     "data": {
      "text/plain": [
       "array(['E_Quench', 'Microphonics', 'Quench', 'Single Cav Turn off'],\n",
       "      dtype=object)"
      ]
     },
     "execution_count": 45,
     "metadata": {},
     "output_type": "execute_result"
    }
   ],
   "source": [
    "from sklearn import preprocessing\n",
    "\n",
    "le = preprocessing.LabelEncoder()\n",
    "le.classes_ = np.load('le_fault_classes.npy')\n",
    "le.classes_"
   ]
  },
  {
   "cell_type": "code",
   "execution_count": 47,
   "metadata": {},
   "outputs": [],
   "source": [
    "from sklearn.externals import joblib\n",
    "\n",
    "RF_fault = joblib.load('RF_FAULT_top50_12172019.sav')"
   ]
  },
  {
   "cell_type": "code",
   "execution_count": 48,
   "metadata": {},
   "outputs": [
    {
     "name": "stdout",
     "output_type": "stream",
     "text": [
      "0.9666666666666667\n"
     ]
    }
   ],
   "source": [
    "print(RF_fault.score(X_fault_master, np.ravel(y_master_encoded)))"
   ]
  },
  {
   "cell_type": "code",
   "execution_count": 97,
   "metadata": {},
   "outputs": [],
   "source": [
    "#for i in range(34,45):\n",
    "#    print(RF_fault.predict(X_fault_master.iloc[[i]]) == np.ravel(y_master_encoded.iloc[i]))"
   ]
  },
  {
   "cell_type": "code",
   "execution_count": null,
   "metadata": {},
   "outputs": [],
   "source": []
  }
 ],
 "metadata": {
  "kernelspec": {
   "display_name": "Python 3",
   "language": "python",
   "name": "python3"
  },
  "language_info": {
   "codemirror_mode": {
    "name": "ipython",
    "version": 3
   },
   "file_extension": ".py",
   "mimetype": "text/x-python",
   "name": "python",
   "nbconvert_exporter": "python",
   "pygments_lexer": "ipython3",
   "version": "3.6.4"
  }
 },
 "nbformat": 4,
 "nbformat_minor": 2
}
