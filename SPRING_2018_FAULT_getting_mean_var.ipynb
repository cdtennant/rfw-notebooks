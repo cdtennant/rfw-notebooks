{
 "cells": [
  {
   "cell_type": "markdown",
   "metadata": {},
   "source": [
    "# Building ML Models for SRF Fault Classification\n",
    "Chris Tennant <br>\n",
    "_December 17, 2019_\n",
    "***"
   ]
  },
  {
   "cell_type": "markdown",
   "metadata": {},
   "source": [
    "Import `pandas`, `matplotlib`, `numpy` and `os` libraries."
   ]
  },
  {
   "cell_type": "code",
   "execution_count": 1,
   "metadata": {},
   "outputs": [],
   "source": [
    "import pandas as pd\n",
    "import matplotlib.pyplot as plt\n",
    "import numpy as np\n",
    "from pathlib import Path\n",
    "import feather\n",
    "\n",
    "dir = Path('C:/Users/tennant/Desktop/rfw_tsf_extractor-Spring-2018/extracted')"
   ]
  },
  {
   "cell_type": "markdown",
   "metadata": {},
   "source": [
    "Read in .csv files with features computed by `tsfresh`."
   ]
  },
  {
   "cell_type": "code",
   "execution_count": 2,
   "metadata": {},
   "outputs": [],
   "source": [
    "y_master = pd.read_csv(dir/'y_fault_master.csv')"
   ]
  },
  {
   "cell_type": "code",
   "execution_count": 3,
   "metadata": {},
   "outputs": [],
   "source": [
    "X_master = pd.read_csv(dir/'X_fault_master.csv')"
   ]
  },
  {
   "cell_type": "code",
   "execution_count": 4,
   "metadata": {},
   "outputs": [],
   "source": [
    "y_master = y_master.drop(columns=['zone', 'time'])"
   ]
  },
  {
   "cell_type": "code",
   "execution_count": 5,
   "metadata": {},
   "outputs": [],
   "source": [
    "X_master = X_master.drop(columns=['zone', 'time'])"
   ]
  },
  {
   "cell_type": "code",
   "execution_count": 6,
   "metadata": {},
   "outputs": [],
   "source": [
    "top50 = ['GMES__fft_coefficient__coeff_16__attr_\"real\"',\n",
    " 'PLDE__fft_coefficient__coeff_16__attr_\"real\"',\n",
    " 'GMES__fft_coefficient__coeff_11__attr_\"angle\"',\n",
    " 'PMES__index_mass_quantile__q_0.9',\n",
    " 'CRRP__fft_coefficient__coeff_64__attr_\"imag\"',\n",
    " 'CRRP__fft_coefficient__coeff_79__attr_\"abs\"',\n",
    " 'CRFP__ar_coefficient__k_10__coeff_1',\n",
    " 'GMES__fft_coefficient__coeff_63__attr_\"imag\"',\n",
    " 'PMES__fft_coefficient__coeff_0__attr_\"abs\"',\n",
    " 'CRRP__maximum',\n",
    " 'PMES__index_mass_quantile__q_0.8',\n",
    " 'GMES__fft_coefficient__coeff_30__attr_\"imag\"',\n",
    " 'GMES__fft_coefficient__coeff_79__attr_\"angle\"',\n",
    " 'IMES__change_quantiles__f_agg_\"var\"__isabs_True__qh_1.0__ql_0.8',\n",
    " 'IMES__fft_coefficient__coeff_2__attr_\"abs\"',\n",
    " 'PLDE__minimum',\n",
    " 'PLDE__fft_coefficient__coeff_28__attr_\"real\"',\n",
    " 'IMES__change_quantiles__f_agg_\"var\"__isabs_False__qh_1.0__ql_0.8',\n",
    " 'CRRP__agg_linear_trend__f_agg_\"min\"__chunk_len_10__attr_\"stderr\"',\n",
    " 'DFQES__fft_coefficient__coeff_52__attr_\"abs\"',\n",
    " 'CRRP__approximate_entropy__m_2__r_0.5',\n",
    " 'CRRP__fft_coefficient__coeff_29__attr_\"abs\"',\n",
    " 'CRRP__fft_coefficient__coeff_48__attr_\"imag\"',\n",
    " 'DFQES__ratio_value_number_to_time_series_length',\n",
    " 'PMES__number_peaks__n_5',\n",
    " 'PMES__energy_ratio_by_chunks__num_segments_10__segment_focus_5',\n",
    " 'PLDE__fft_coefficient__coeff_49__attr_\"angle\"',\n",
    " 'IMES__agg_linear_trend__f_agg_\"max\"__chunk_len_10__attr_\"slope\"',\n",
    " 'CRRP__agg_linear_trend__f_agg_\"var\"__chunk_len_10__attr_\"intercept\"',\n",
    " 'GASK__ar_coefficient__k_10__coeff_1',\n",
    " 'CRRP__fft_coefficient__coeff_75__attr_\"angle\"',\n",
    " 'IASK__fft_coefficient__coeff_45__attr_\"abs\"',\n",
    " 'DETA2__number_peaks__n_3',\n",
    " 'CRFPP__percentage_of_reoccurring_values_to_all_values',\n",
    " 'CRRP__fft_coefficient__coeff_64__attr_\"angle\"',\n",
    " 'GMES__fft_coefficient__coeff_28__attr_\"real\"',\n",
    " 'CRRP__fft_coefficient__coeff_31__attr_\"abs\"',\n",
    " 'CRRP__fft_coefficient__coeff_96__attr_\"imag\"',\n",
    " 'GASK__ratio_beyond_r_sigma__r_10',\n",
    " 'PLDE__fft_coefficient__coeff_33__attr_\"real\"',\n",
    " 'CRRP__fft_coefficient__coeff_33__attr_\"abs\"',\n",
    " 'CRRP__standard_deviation',\n",
    " 'GMES__spkt_welch_density__coeff_5',\n",
    " 'CRRP__fft_coefficient__coeff_76__attr_\"abs\"',\n",
    " 'PLDE__fft_coefficient__coeff_17__attr_\"abs\"',\n",
    " 'DFQES__fft_coefficient__coeff_51__attr_\"abs\"',\n",
    " 'CRFP__time_reversal_asymmetry_statistic__lag_1',\n",
    " 'DFQES__fft_coefficient__coeff_50__attr_\"real\"',\n",
    " 'IMES__linear_trend__attr_\"rvalue\"',\n",
    " 'PMES__energy_ratio_by_chunks__num_segments_10__segment_focus_9']"
   ]
  },
  {
   "cell_type": "code",
   "execution_count": 7,
   "metadata": {},
   "outputs": [],
   "source": [
    "X_master = X_master[top50]"
   ]
  },
  {
   "cell_type": "code",
   "execution_count": 8,
   "metadata": {
    "scrolled": false
   },
   "outputs": [
    {
     "name": "stdout",
     "output_type": "stream",
     "text": [
      "Number of training examples: 330\n",
      "Number of features: 50\n",
      "Number of categories: 4\n"
     ]
    }
   ],
   "source": [
    "print(\"Number of training examples: {}\".format(X_master.shape[0]))\n",
    "print(\"Number of features: {}\".format(X_master.shape[1]))\n",
    "print(\"Number of categories: {}\".format(y_master['label'].nunique()))"
   ]
  },
  {
   "cell_type": "markdown",
   "metadata": {},
   "source": [
    "Histogram showing how the distribution of the types of faults in the data set."
   ]
  },
  {
   "cell_type": "code",
   "execution_count": 9,
   "metadata": {},
   "outputs": [
    {
     "data": {
      "text/plain": [
       "Single Cav Turn off    140\n",
       "Quench                 114\n",
       "Microphonics            50\n",
       "E_Quench                26\n",
       "Name: label, dtype: int64"
      ]
     },
     "execution_count": 9,
     "metadata": {},
     "output_type": "execute_result"
    }
   ],
   "source": [
    "y_master['label'].value_counts()"
   ]
  },
  {
   "cell_type": "code",
   "execution_count": 10,
   "metadata": {
    "scrolled": false
   },
   "outputs": [
    {
     "data": {
      "image/png": "[encoded data removed]",
      "text/plain": [
       "<Figure size 432x288 with 1 Axes>"
      ]
     },
     "metadata": {
      "needs_background": "light"
     },
     "output_type": "display_data"
    }
   ],
   "source": [
    "#y_master.T.head(55)\n",
    "y_master['label'].value_counts().plot(kind='bar');\n",
    "plt.title(\"Distribution of Cavity Fault Types\");\n",
    "plt.ylabel(\"Counts\");\n",
    "#plt.savefig(\"faults_bar.png\", bbox_inches = \"tight\", dpi=200)"
   ]
  },
  {
   "cell_type": "markdown",
   "metadata": {},
   "source": [
    "Use `impute` from `tsfresh` to replace all `NaNs` and `infs` from the `DataFrame` with average/extreme values from the same columns."
   ]
  },
  {
   "cell_type": "code",
   "execution_count": 11,
   "metadata": {},
   "outputs": [],
   "source": [
    "from tsfresh.utilities.dataframe_functions import impute\n",
    "\n",
    "X_master = impute(X_master)"
   ]
  },
  {
   "cell_type": "markdown",
   "metadata": {},
   "source": [
    "Need to convert categorical labels to numeric labels using `LabelEncoder`."
   ]
  },
  {
   "cell_type": "code",
   "execution_count": 12,
   "metadata": {},
   "outputs": [],
   "source": [
    "from sklearn import preprocessing\n",
    "\n",
    "le = preprocessing.LabelEncoder()\n",
    "y_master_encoded = pd.Series(le.fit_transform(np.ravel(y_master)), y_master.index)\n",
    "np.save('le_fault_classes.npy', le.classes_)"
   ]
  },
  {
   "cell_type": "markdown",
   "metadata": {},
   "source": [
    "Split the data into training and test sets using `train_test_split` from `sklearn`. Keep 30% of the data for testing."
   ]
  },
  {
   "cell_type": "code",
   "execution_count": 13,
   "metadata": {},
   "outputs": [],
   "source": [
    "from sklearn.model_selection import train_test_split\n",
    "\n",
    "X_train, X_test, y_train, y_test = train_test_split(X_master, y_master_encoded, test_size = 0.3, random_state=123, stratify=y_master)"
   ]
  },
  {
   "cell_type": "code",
   "execution_count": 14,
   "metadata": {
    "scrolled": true
   },
   "outputs": [
    {
     "name": "stdout",
     "output_type": "stream",
     "text": [
      "The number of training examples is: 231\n",
      "The number of test examples is: 99\n"
     ]
    }
   ],
   "source": [
    "print(\"The number of training examples is: {}\".format(X_train.shape[0]))\n",
    "print(\"The number of test examples is: {}\".format(X_test.shape[0]))"
   ]
  },
  {
   "cell_type": "code",
   "execution_count": 15,
   "metadata": {},
   "outputs": [
    {
     "data": {
      "image/png": "[encoded data removed]",
      "text/plain": [
       "<Figure size 432x288 with 1 Axes>"
      ]
     },
     "metadata": {
      "needs_background": "light"
     },
     "output_type": "display_data"
    }
   ],
   "source": [
    "y_train.value_counts().plot(kind='bar');\n",
    "plt.title(\"Distribution of Cavity Fault Types\");\n",
    "plt.ylabel(\"Counts\");\n",
    "#plt.savefig(\"faults_bar.png\", bbox_inches = \"tight\", dpi=200)"
   ]
  },
  {
   "cell_type": "code",
   "execution_count": 16,
   "metadata": {},
   "outputs": [
    {
     "data": {
      "image/png": "[encoded data removed]",
      "text/plain": [
       "<Figure size 432x288 with 1 Axes>"
      ]
     },
     "metadata": {
      "needs_background": "light"
     },
     "output_type": "display_data"
    }
   ],
   "source": [
    "y_test.value_counts().plot(kind='bar');\n",
    "plt.title(\"Distribution of Cavity Fault Types\");\n",
    "plt.ylabel(\"Counts\");\n",
    "#plt.savefig(\"faults_bar.png\", bbox_inches = \"tight\", dpi=200)"
   ]
  },
  {
   "cell_type": "markdown",
   "metadata": {},
   "source": [
    "Need to standardize features by removing the mean and scaling to unit variance. Note to avoid _data leak_ we standardize the training data and then use the same step (including the same values for mean and standard deviation) on the test set.\n",
    "<br><br>\n",
    "_(Note, it may be wise to standardize the initial time-series signals before computing features. However, it requires having all the data together in a single `DataFrame`. Due to computational issues with `tsfresh`, this is not possible and need to compute small batches of data at a time)._"
   ]
  },
  {
   "cell_type": "code",
   "execution_count": 17,
   "metadata": {
    "scrolled": true
   },
   "outputs": [],
   "source": [
    "from sklearn.preprocessing import StandardScaler\n",
    "\n",
    "sc = StandardScaler()\n",
    "X_train_scaled = pd.DataFrame(sc.fit_transform(X_train), columns=X_train.columns, index=X_train.index)\n",
    "X_test_scaled = pd.DataFrame(sc.transform(X_test), columns=X_test.columns, index=X_test.index)"
   ]
  },
  {
   "cell_type": "code",
   "execution_count": 18,
   "metadata": {},
   "outputs": [
    {
     "data": {
      "text/html": [
       "<div>\n",
       "<style scoped>\n",
       "    .dataframe tbody tr th:only-of-type {\n",
       "        vertical-align: middle;\n",
       "    }\n",
       "\n",
       "    .dataframe tbody tr th {\n",
       "        vertical-align: top;\n",
       "    }\n",
       "\n",
       "    .dataframe thead th {\n",
       "        text-align: right;\n",
       "    }\n",
       "</style>\n",
       "<table border=\"1\" class=\"dataframe\">\n",
       "  <thead>\n",
       "    <tr style=\"text-align: right;\">\n",
       "      <th></th>\n",
       "      <th>GMES__fft_coefficient__coeff_16__attr_\"real\"</th>\n",
       "      <th>PLDE__fft_coefficient__coeff_16__attr_\"real\"</th>\n",
       "      <th>GMES__fft_coefficient__coeff_11__attr_\"angle\"</th>\n",
       "      <th>PMES__index_mass_quantile__q_0.9</th>\n",
       "      <th>CRRP__fft_coefficient__coeff_64__attr_\"imag\"</th>\n",
       "      <th>CRRP__fft_coefficient__coeff_79__attr_\"abs\"</th>\n",
       "      <th>CRFP__ar_coefficient__k_10__coeff_1</th>\n",
       "      <th>GMES__fft_coefficient__coeff_63__attr_\"imag\"</th>\n",
       "      <th>PMES__fft_coefficient__coeff_0__attr_\"abs\"</th>\n",
       "      <th>CRRP__maximum</th>\n",
       "      <th>...</th>\n",
       "      <th>CRRP__fft_coefficient__coeff_33__attr_\"abs\"</th>\n",
       "      <th>CRRP__standard_deviation</th>\n",
       "      <th>GMES__spkt_welch_density__coeff_5</th>\n",
       "      <th>CRRP__fft_coefficient__coeff_76__attr_\"abs\"</th>\n",
       "      <th>PLDE__fft_coefficient__coeff_17__attr_\"abs\"</th>\n",
       "      <th>DFQES__fft_coefficient__coeff_51__attr_\"abs\"</th>\n",
       "      <th>CRFP__time_reversal_asymmetry_statistic__lag_1</th>\n",
       "      <th>DFQES__fft_coefficient__coeff_50__attr_\"real\"</th>\n",
       "      <th>IMES__linear_trend__attr_\"rvalue\"</th>\n",
       "      <th>PMES__energy_ratio_by_chunks__num_segments_10__segment_focus_9</th>\n",
       "    </tr>\n",
       "  </thead>\n",
       "  <tbody>\n",
       "    <tr>\n",
       "      <th>count</th>\n",
       "      <td>2.310000e+02</td>\n",
       "      <td>2.310000e+02</td>\n",
       "      <td>2.310000e+02</td>\n",
       "      <td>2.310000e+02</td>\n",
       "      <td>2.310000e+02</td>\n",
       "      <td>2.310000e+02</td>\n",
       "      <td>2.310000e+02</td>\n",
       "      <td>2.310000e+02</td>\n",
       "      <td>2.310000e+02</td>\n",
       "      <td>2.310000e+02</td>\n",
       "      <td>...</td>\n",
       "      <td>2.310000e+02</td>\n",
       "      <td>2.310000e+02</td>\n",
       "      <td>2.310000e+02</td>\n",
       "      <td>2.310000e+02</td>\n",
       "      <td>2.310000e+02</td>\n",
       "      <td>2.310000e+02</td>\n",
       "      <td>2.310000e+02</td>\n",
       "      <td>2.310000e+02</td>\n",
       "      <td>2.310000e+02</td>\n",
       "      <td>2.310000e+02</td>\n",
       "    </tr>\n",
       "    <tr>\n",
       "      <th>mean</th>\n",
       "      <td>1.441848e-18</td>\n",
       "      <td>1.249602e-17</td>\n",
       "      <td>2.210834e-17</td>\n",
       "      <td>6.209559e-16</td>\n",
       "      <td>-5.779408e-17</td>\n",
       "      <td>4.998407e-17</td>\n",
       "      <td>-1.696575e-16</td>\n",
       "      <td>-7.593733e-17</td>\n",
       "      <td>4.421667e-17</td>\n",
       "      <td>-1.682156e-16</td>\n",
       "      <td>...</td>\n",
       "      <td>-2.859665e-17</td>\n",
       "      <td>-2.306957e-17</td>\n",
       "      <td>-1.970526e-17</td>\n",
       "      <td>-6.728624e-17</td>\n",
       "      <td>-2.751527e-17</td>\n",
       "      <td>1.186220e-16</td>\n",
       "      <td>-2.050128e-18</td>\n",
       "      <td>4.637945e-17</td>\n",
       "      <td>-1.730218e-17</td>\n",
       "      <td>-1.826341e-17</td>\n",
       "    </tr>\n",
       "    <tr>\n",
       "      <th>std</th>\n",
       "      <td>1.002172e+00</td>\n",
       "      <td>1.002172e+00</td>\n",
       "      <td>1.002172e+00</td>\n",
       "      <td>1.002172e+00</td>\n",
       "      <td>1.002172e+00</td>\n",
       "      <td>1.002172e+00</td>\n",
       "      <td>1.002172e+00</td>\n",
       "      <td>1.002172e+00</td>\n",
       "      <td>1.002172e+00</td>\n",
       "      <td>1.002172e+00</td>\n",
       "      <td>...</td>\n",
       "      <td>1.002172e+00</td>\n",
       "      <td>1.002172e+00</td>\n",
       "      <td>1.002172e+00</td>\n",
       "      <td>1.002172e+00</td>\n",
       "      <td>1.002172e+00</td>\n",
       "      <td>1.002172e+00</td>\n",
       "      <td>1.002172e+00</td>\n",
       "      <td>1.002172e+00</td>\n",
       "      <td>1.002172e+00</td>\n",
       "      <td>1.002172e+00</td>\n",
       "    </tr>\n",
       "    <tr>\n",
       "      <th>min</th>\n",
       "      <td>-2.264932e+00</td>\n",
       "      <td>-1.456382e+00</td>\n",
       "      <td>-2.278627e+00</td>\n",
       "      <td>-3.607578e+00</td>\n",
       "      <td>-3.720977e+00</td>\n",
       "      <td>-1.161660e+00</td>\n",
       "      <td>-2.794295e+00</td>\n",
       "      <td>-2.754676e+00</td>\n",
       "      <td>-1.589548e+00</td>\n",
       "      <td>-1.179354e+00</td>\n",
       "      <td>...</td>\n",
       "      <td>-9.806926e-01</td>\n",
       "      <td>-1.051305e+00</td>\n",
       "      <td>-5.213461e-01</td>\n",
       "      <td>-1.230659e+00</td>\n",
       "      <td>-1.309113e+00</td>\n",
       "      <td>-1.190637e+00</td>\n",
       "      <td>-1.134937e+01</td>\n",
       "      <td>-4.396771e+00</td>\n",
       "      <td>-1.336373e+00</td>\n",
       "      <td>-1.225846e+00</td>\n",
       "    </tr>\n",
       "    <tr>\n",
       "      <th>25%</th>\n",
       "      <td>-5.948612e-01</td>\n",
       "      <td>-6.473247e-01</td>\n",
       "      <td>-5.733937e-01</td>\n",
       "      <td>-6.214392e-01</td>\n",
       "      <td>-6.604820e-01</td>\n",
       "      <td>-7.949577e-01</td>\n",
       "      <td>-7.625795e-01</td>\n",
       "      <td>-8.034004e-01</td>\n",
       "      <td>-9.497222e-01</td>\n",
       "      <td>-8.869943e-01</td>\n",
       "      <td>...</td>\n",
       "      <td>-6.624637e-01</td>\n",
       "      <td>-7.274282e-01</td>\n",
       "      <td>-4.850350e-01</td>\n",
       "      <td>-8.005685e-01</td>\n",
       "      <td>-8.591979e-01</td>\n",
       "      <td>-7.348941e-01</td>\n",
       "      <td>3.435627e-03</td>\n",
       "      <td>-5.077553e-01</td>\n",
       "      <td>-1.019010e+00</td>\n",
       "      <td>-7.061651e-01</td>\n",
       "    </tr>\n",
       "    <tr>\n",
       "      <th>50%</th>\n",
       "      <td>3.431904e-01</td>\n",
       "      <td>-3.669011e-01</td>\n",
       "      <td>-4.207437e-01</td>\n",
       "      <td>-9.010308e-03</td>\n",
       "      <td>-3.816247e-01</td>\n",
       "      <td>-3.049869e-01</td>\n",
       "      <td>-9.419592e-02</td>\n",
       "      <td>-1.609661e-01</td>\n",
       "      <td>-1.430026e-01</td>\n",
       "      <td>-3.155709e-01</td>\n",
       "      <td>...</td>\n",
       "      <td>-2.690029e-01</td>\n",
       "      <td>-3.037953e-01</td>\n",
       "      <td>-3.110503e-01</td>\n",
       "      <td>-2.574702e-01</td>\n",
       "      <td>-3.236441e-01</td>\n",
       "      <td>-3.626952e-01</td>\n",
       "      <td>3.757262e-03</td>\n",
       "      <td>7.301309e-02</td>\n",
       "      <td>-1.515548e-01</td>\n",
       "      <td>-2.560074e-01</td>\n",
       "    </tr>\n",
       "    <tr>\n",
       "      <th>75%</th>\n",
       "      <td>7.563850e-01</td>\n",
       "      <td>5.632664e-01</td>\n",
       "      <td>3.659149e-02</td>\n",
       "      <td>7.583529e-01</td>\n",
       "      <td>5.885258e-01</td>\n",
       "      <td>5.413576e-01</td>\n",
       "      <td>8.505553e-01</td>\n",
       "      <td>6.584717e-01</td>\n",
       "      <td>8.784672e-01</td>\n",
       "      <td>9.106349e-01</td>\n",
       "      <td>...</td>\n",
       "      <td>3.633815e-01</td>\n",
       "      <td>5.226174e-01</td>\n",
       "      <td>2.631892e-02</td>\n",
       "      <td>6.637341e-01</td>\n",
       "      <td>8.728161e-01</td>\n",
       "      <td>4.878684e-01</td>\n",
       "      <td>5.701863e-03</td>\n",
       "      <td>5.284031e-01</td>\n",
       "      <td>7.870350e-01</td>\n",
       "      <td>4.650467e-01</td>\n",
       "    </tr>\n",
       "    <tr>\n",
       "      <th>max</th>\n",
       "      <td>1.503770e+00</td>\n",
       "      <td>2.594619e+00</td>\n",
       "      <td>2.320075e+00</td>\n",
       "      <td>2.066524e+00</td>\n",
       "      <td>3.542926e+00</td>\n",
       "      <td>3.971289e+00</td>\n",
       "      <td>2.588753e+00</td>\n",
       "      <td>2.544378e+00</td>\n",
       "      <td>2.254051e+00</td>\n",
       "      <td>2.100072e+00</td>\n",
       "      <td>...</td>\n",
       "      <td>7.465661e+00</td>\n",
       "      <td>6.318100e+00</td>\n",
       "      <td>9.230763e+00</td>\n",
       "      <td>3.373723e+00</td>\n",
       "      <td>2.368119e+00</td>\n",
       "      <td>3.787720e+00</td>\n",
       "      <td>1.010137e+01</td>\n",
       "      <td>3.181479e+00</td>\n",
       "      <td>1.386928e+00</td>\n",
       "      <td>6.057684e+00</td>\n",
       "    </tr>\n",
       "  </tbody>\n",
       "</table>\n",
       "<p>8 rows × 50 columns</p>\n",
       "</div>"
      ],
      "text/plain": [
       "       GMES__fft_coefficient__coeff_16__attr_\"real\"  \\\n",
       "count                                  2.310000e+02   \n",
       "mean                                   1.441848e-18   \n",
       "std                                    1.002172e+00   \n",
       "min                                   -2.264932e+00   \n",
       "25%                                   -5.948612e-01   \n",
       "50%                                    3.431904e-01   \n",
       "75%                                    7.563850e-01   \n",
       "max                                    1.503770e+00   \n",
       "\n",
       "       PLDE__fft_coefficient__coeff_16__attr_\"real\"  \\\n",
       "count                                  2.310000e+02   \n",
       "mean                                   1.249602e-17   \n",
       "std                                    1.002172e+00   \n",
       "min                                   -1.456382e+00   \n",
       "25%                                   -6.473247e-01   \n",
       "50%                                   -3.669011e-01   \n",
       "75%                                    5.632664e-01   \n",
       "max                                    2.594619e+00   \n",
       "\n",
       "       GMES__fft_coefficient__coeff_11__attr_\"angle\"  \\\n",
       "count                                   2.310000e+02   \n",
       "mean                                    2.210834e-17   \n",
       "std                                     1.002172e+00   \n",
       "min                                    -2.278627e+00   \n",
       "25%                                    -5.733937e-01   \n",
       "50%                                    -4.207437e-01   \n",
       "75%                                     3.659149e-02   \n",
       "max                                     2.320075e+00   \n",
       "\n",
       "       PMES__index_mass_quantile__q_0.9  \\\n",
       "count                      2.310000e+02   \n",
       "mean                       6.209559e-16   \n",
       "std                        1.002172e+00   \n",
       "min                       -3.607578e+00   \n",
       "25%                       -6.214392e-01   \n",
       "50%                       -9.010308e-03   \n",
       "75%                        7.583529e-01   \n",
       "max                        2.066524e+00   \n",
       "\n",
       "       CRRP__fft_coefficient__coeff_64__attr_\"imag\"  \\\n",
       "count                                  2.310000e+02   \n",
       "mean                                  -5.779408e-17   \n",
       "std                                    1.002172e+00   \n",
       "min                                   -3.720977e+00   \n",
       "25%                                   -6.604820e-01   \n",
       "50%                                   -3.816247e-01   \n",
       "75%                                    5.885258e-01   \n",
       "max                                    3.542926e+00   \n",
       "\n",
       "       CRRP__fft_coefficient__coeff_79__attr_\"abs\"  \\\n",
       "count                                 2.310000e+02   \n",
       "mean                                  4.998407e-17   \n",
       "std                                   1.002172e+00   \n",
       "min                                  -1.161660e+00   \n",
       "25%                                  -7.949577e-01   \n",
       "50%                                  -3.049869e-01   \n",
       "75%                                   5.413576e-01   \n",
       "max                                   3.971289e+00   \n",
       "\n",
       "       CRFP__ar_coefficient__k_10__coeff_1  \\\n",
       "count                         2.310000e+02   \n",
       "mean                         -1.696575e-16   \n",
       "std                           1.002172e+00   \n",
       "min                          -2.794295e+00   \n",
       "25%                          -7.625795e-01   \n",
       "50%                          -9.419592e-02   \n",
       "75%                           8.505553e-01   \n",
       "max                           2.588753e+00   \n",
       "\n",
       "       GMES__fft_coefficient__coeff_63__attr_\"imag\"  \\\n",
       "count                                  2.310000e+02   \n",
       "mean                                  -7.593733e-17   \n",
       "std                                    1.002172e+00   \n",
       "min                                   -2.754676e+00   \n",
       "25%                                   -8.034004e-01   \n",
       "50%                                   -1.609661e-01   \n",
       "75%                                    6.584717e-01   \n",
       "max                                    2.544378e+00   \n",
       "\n",
       "       PMES__fft_coefficient__coeff_0__attr_\"abs\"  CRRP__maximum  \\\n",
       "count                                2.310000e+02   2.310000e+02   \n",
       "mean                                 4.421667e-17  -1.682156e-16   \n",
       "std                                  1.002172e+00   1.002172e+00   \n",
       "min                                 -1.589548e+00  -1.179354e+00   \n",
       "25%                                 -9.497222e-01  -8.869943e-01   \n",
       "50%                                 -1.430026e-01  -3.155709e-01   \n",
       "75%                                  8.784672e-01   9.106349e-01   \n",
       "max                                  2.254051e+00   2.100072e+00   \n",
       "\n",
       "                                    ...                                \\\n",
       "count                               ...                                 \n",
       "mean                                ...                                 \n",
       "std                                 ...                                 \n",
       "min                                 ...                                 \n",
       "25%                                 ...                                 \n",
       "50%                                 ...                                 \n",
       "75%                                 ...                                 \n",
       "max                                 ...                                 \n",
       "\n",
       "       CRRP__fft_coefficient__coeff_33__attr_\"abs\"  CRRP__standard_deviation  \\\n",
       "count                                 2.310000e+02              2.310000e+02   \n",
       "mean                                 -2.859665e-17             -2.306957e-17   \n",
       "std                                   1.002172e+00              1.002172e+00   \n",
       "min                                  -9.806926e-01             -1.051305e+00   \n",
       "25%                                  -6.624637e-01             -7.274282e-01   \n",
       "50%                                  -2.690029e-01             -3.037953e-01   \n",
       "75%                                   3.633815e-01              5.226174e-01   \n",
       "max                                   7.465661e+00              6.318100e+00   \n",
       "\n",
       "       GMES__spkt_welch_density__coeff_5  \\\n",
       "count                       2.310000e+02   \n",
       "mean                       -1.970526e-17   \n",
       "std                         1.002172e+00   \n",
       "min                        -5.213461e-01   \n",
       "25%                        -4.850350e-01   \n",
       "50%                        -3.110503e-01   \n",
       "75%                         2.631892e-02   \n",
       "max                         9.230763e+00   \n",
       "\n",
       "       CRRP__fft_coefficient__coeff_76__attr_\"abs\"  \\\n",
       "count                                 2.310000e+02   \n",
       "mean                                 -6.728624e-17   \n",
       "std                                   1.002172e+00   \n",
       "min                                  -1.230659e+00   \n",
       "25%                                  -8.005685e-01   \n",
       "50%                                  -2.574702e-01   \n",
       "75%                                   6.637341e-01   \n",
       "max                                   3.373723e+00   \n",
       "\n",
       "       PLDE__fft_coefficient__coeff_17__attr_\"abs\"  \\\n",
       "count                                 2.310000e+02   \n",
       "mean                                 -2.751527e-17   \n",
       "std                                   1.002172e+00   \n",
       "min                                  -1.309113e+00   \n",
       "25%                                  -8.591979e-01   \n",
       "50%                                  -3.236441e-01   \n",
       "75%                                   8.728161e-01   \n",
       "max                                   2.368119e+00   \n",
       "\n",
       "       DFQES__fft_coefficient__coeff_51__attr_\"abs\"  \\\n",
       "count                                  2.310000e+02   \n",
       "mean                                   1.186220e-16   \n",
       "std                                    1.002172e+00   \n",
       "min                                   -1.190637e+00   \n",
       "25%                                   -7.348941e-01   \n",
       "50%                                   -3.626952e-01   \n",
       "75%                                    4.878684e-01   \n",
       "max                                    3.787720e+00   \n",
       "\n",
       "       CRFP__time_reversal_asymmetry_statistic__lag_1  \\\n",
       "count                                    2.310000e+02   \n",
       "mean                                    -2.050128e-18   \n",
       "std                                      1.002172e+00   \n",
       "min                                     -1.134937e+01   \n",
       "25%                                      3.435627e-03   \n",
       "50%                                      3.757262e-03   \n",
       "75%                                      5.701863e-03   \n",
       "max                                      1.010137e+01   \n",
       "\n",
       "       DFQES__fft_coefficient__coeff_50__attr_\"real\"  \\\n",
       "count                                   2.310000e+02   \n",
       "mean                                    4.637945e-17   \n",
       "std                                     1.002172e+00   \n",
       "min                                    -4.396771e+00   \n",
       "25%                                    -5.077553e-01   \n",
       "50%                                     7.301309e-02   \n",
       "75%                                     5.284031e-01   \n",
       "max                                     3.181479e+00   \n",
       "\n",
       "       IMES__linear_trend__attr_\"rvalue\"  \\\n",
       "count                       2.310000e+02   \n",
       "mean                       -1.730218e-17   \n",
       "std                         1.002172e+00   \n",
       "min                        -1.336373e+00   \n",
       "25%                        -1.019010e+00   \n",
       "50%                        -1.515548e-01   \n",
       "75%                         7.870350e-01   \n",
       "max                         1.386928e+00   \n",
       "\n",
       "       PMES__energy_ratio_by_chunks__num_segments_10__segment_focus_9  \n",
       "count                                       2.310000e+02               \n",
       "mean                                       -1.826341e-17               \n",
       "std                                         1.002172e+00               \n",
       "min                                        -1.225846e+00               \n",
       "25%                                        -7.061651e-01               \n",
       "50%                                        -2.560074e-01               \n",
       "75%                                         4.650467e-01               \n",
       "max                                         6.057684e+00               \n",
       "\n",
       "[8 rows x 50 columns]"
      ]
     },
     "execution_count": 18,
     "metadata": {},
     "output_type": "execute_result"
    }
   ],
   "source": [
    "X_train_scaled.describe()"
   ]
  },
  {
   "cell_type": "markdown",
   "metadata": {},
   "source": [
    "Save (mean, variance) values as `numpy` arrays for use with saved model when deployed."
   ]
  },
  {
   "cell_type": "code",
   "execution_count": 25,
   "metadata": {},
   "outputs": [],
   "source": [
    "X_train_mean = sc.fit(X_train).mean_\n",
    "X_train_var = sc.fit(X_train).scale_\n",
    "\n",
    "#np.save('RF_FAULT_top50_mean', X_train_mean, allow_pickle=False)\n",
    "#np.save('RF_FAULT_top50_var', X_train_var, allow_pickle=False)"
   ]
  },
  {
   "cell_type": "code",
   "execution_count": null,
   "metadata": {},
   "outputs": [],
   "source": []
  }
 ],
 "metadata": {
  "kernelspec": {
   "display_name": "Python 3",
   "language": "python",
   "name": "python3"
  },
  "language_info": {
   "codemirror_mode": {
    "name": "ipython",
    "version": 3
   },
   "file_extension": ".py",
   "mimetype": "text/x-python",
   "name": "python",
   "nbconvert_exporter": "python",
   "pygments_lexer": "ipython3",
   "version": "3.6.4"
  }
 },
 "nbformat": 4,
 "nbformat_minor": 2
}
