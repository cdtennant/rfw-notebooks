{
 "cells": [
  {
   "cell_type": "markdown",
   "metadata": {},
   "source": [
    "# Building ML Models for SRF Fault Classification\n",
    "Chris Tennant <br>\n",
    "_December 17, 2019_\n",
    "***"
   ]
  },
  {
   "cell_type": "code",
   "execution_count": 1,
   "metadata": {},
   "outputs": [],
   "source": [
    "import pandas as pd\n",
    "import matplotlib.pyplot as plt\n",
    "import numpy as np\n",
    "import os\n",
    "import glob\n",
    "from pathlib import Path"
   ]
  },
  {
   "cell_type": "code",
   "execution_count": 2,
   "metadata": {},
   "outputs": [],
   "source": [
    "dir = Path('C:/Users/tennant/Desktop/rfw_tsf_extractor-Spring-2018/extracted')"
   ]
  },
  {
   "cell_type": "code",
   "execution_count": 3,
   "metadata": {},
   "outputs": [],
   "source": [
    "X_train_scaled_top50 = pd.read_csv(dir/'X_fault_train_scaled_top50.csv')\n",
    "X_test_scaled_top50 = pd.read_csv(dir/'X_fault_test_scaled_top50.csv')\n",
    "y_train = pd.read_csv(dir/'y_fault_train.csv', header=None)\n",
    "y_test = pd.read_csv(dir/'y_fault_test.csv', header=None)"
   ]
  },
  {
   "cell_type": "code",
   "execution_count": 4,
   "metadata": {},
   "outputs": [],
   "source": [
    "X_train_scaled_top50 = X_train_scaled_top50.drop(columns='Unnamed: 0')\n",
    "X_test_scaled_top50 = X_test_scaled_top50.drop(columns='Unnamed: 0')\n",
    "y_train.columns = ['index', 'label']\n",
    "y_test.columns = ['index', 'label']\n",
    "y_train = y_train.drop(columns='index')\n",
    "y_test = y_test.drop(columns='index')"
   ]
  },
  {
   "cell_type": "code",
   "execution_count": 5,
   "metadata": {
    "scrolled": true
   },
   "outputs": [
    {
     "name": "stdout",
     "output_type": "stream",
     "text": [
      "Number of training examples: 231\n",
      "Number of testing examples: 99\n",
      "Number of features: 50\n",
      "Number of categories: 4\n"
     ]
    }
   ],
   "source": [
    "print(\"Number of training examples: {}\".format(X_train_scaled_top50.shape[0]))\n",
    "print(\"Number of testing examples: {}\".format(X_test_scaled_top50.shape[0]))\n",
    "print(\"Number of features: {}\".format(X_train_scaled_top50.shape[1]))\n",
    "print(\"Number of categories: {}\".format(y_test['label'].nunique()))"
   ]
  },
  {
   "cell_type": "raw",
   "metadata": {},
   "source": [
    "For reference, these are the top 50 features computed."
   ]
  },
  {
   "cell_type": "code",
   "execution_count": 70,
   "metadata": {},
   "outputs": [],
   "source": [
    "RF_top50 = ['GMES__fft_coefficient__coeff_16__attr_\"real\"',\n",
    " 'PLDE__fft_coefficient__coeff_16__attr_\"real\"',\n",
    " 'GMES__fft_coefficient__coeff_11__attr_\"angle\"',\n",
    " 'PMES__index_mass_quantile__q_0.9',\n",
    " 'CRRP__fft_coefficient__coeff_64__attr_\"imag\"',\n",
    " 'CRRP__fft_coefficient__coeff_79__attr_\"abs\"',\n",
    " 'CRFP__ar_coefficient__k_10__coeff_1',\n",
    " 'GMES__fft_coefficient__coeff_63__attr_\"imag\"',\n",
    " 'PMES__fft_coefficient__coeff_0__attr_\"abs\"',\n",
    " 'CRRP__maximum',\n",
    " 'PMES__index_mass_quantile__q_0.8',\n",
    " 'GMES__fft_coefficient__coeff_30__attr_\"imag\"',\n",
    " 'GMES__fft_coefficient__coeff_79__attr_\"angle\"',\n",
    " 'IMES__change_quantiles__f_agg_\"var\"__isabs_True__qh_1.0__ql_0.8',\n",
    " 'IMES__fft_coefficient__coeff_2__attr_\"abs\"',\n",
    " 'PLDE__minimum',\n",
    " 'PLDE__fft_coefficient__coeff_28__attr_\"real\"',\n",
    " 'IMES__change_quantiles__f_agg_\"var\"__isabs_False__qh_1.0__ql_0.8',\n",
    " 'CRRP__agg_linear_trend__f_agg_\"min\"__chunk_len_10__attr_\"stderr\"',\n",
    " 'DFQES__fft_coefficient__coeff_52__attr_\"abs\"',\n",
    " 'CRRP__approximate_entropy__m_2__r_0.5',\n",
    " 'CRRP__fft_coefficient__coeff_29__attr_\"abs\"',\n",
    " 'CRRP__fft_coefficient__coeff_48__attr_\"imag\"',\n",
    " 'DFQES__ratio_value_number_to_time_series_length',\n",
    " 'PMES__number_peaks__n_5',\n",
    " 'PMES__energy_ratio_by_chunks__num_segments_10__segment_focus_5',\n",
    " 'PLDE__fft_coefficient__coeff_49__attr_\"angle\"',\n",
    " 'IMES__agg_linear_trend__f_agg_\"max\"__chunk_len_10__attr_\"slope\"',\n",
    " 'CRRP__agg_linear_trend__f_agg_\"var\"__chunk_len_10__attr_\"intercept\"',\n",
    " 'GASK__ar_coefficient__k_10__coeff_1',\n",
    " 'CRRP__fft_coefficient__coeff_75__attr_\"angle\"',\n",
    " 'IASK__fft_coefficient__coeff_45__attr_\"abs\"',\n",
    " 'DETA2__number_peaks__n_3',\n",
    " 'CRFPP__percentage_of_reoccurring_values_to_all_values',\n",
    " 'CRRP__fft_coefficient__coeff_64__attr_\"angle\"',\n",
    " 'GMES__fft_coefficient__coeff_28__attr_\"real\"',\n",
    " 'CRRP__fft_coefficient__coeff_31__attr_\"abs\"',\n",
    " 'CRRP__fft_coefficient__coeff_96__attr_\"imag\"',\n",
    " 'GASK__ratio_beyond_r_sigma__r_10',\n",
    " 'PLDE__fft_coefficient__coeff_33__attr_\"real\"',\n",
    " 'CRRP__fft_coefficient__coeff_33__attr_\"abs\"',\n",
    " 'CRRP__standard_deviation',\n",
    " 'GMES__spkt_welch_density__coeff_5',\n",
    " 'CRRP__fft_coefficient__coeff_76__attr_\"abs\"',\n",
    " 'PLDE__fft_coefficient__coeff_17__attr_\"abs\"',\n",
    " 'DFQES__fft_coefficient__coeff_51__attr_\"abs\"',\n",
    " 'CRFP__time_reversal_asymmetry_statistic__lag_1',\n",
    " 'DFQES__fft_coefficient__coeff_50__attr_\"real\"',\n",
    " 'IMES__linear_trend__attr_\"rvalue\"',\n",
    " 'PMES__energy_ratio_by_chunks__num_segments_10__segment_focus_9']"
   ]
  },
  {
   "cell_type": "markdown",
   "metadata": {},
   "source": [
    "Import libraries containing performance metrics and models."
   ]
  },
  {
   "cell_type": "code",
   "execution_count": 71,
   "metadata": {},
   "outputs": [],
   "source": [
    "from sklearn.metrics import accuracy_score, classification_report, confusion_matrix\n",
    "from sklearn.model_selection import KFold\n",
    "from sklearn.model_selection import cross_val_score\n",
    "\n",
    "from sklearn.neighbors import KNeighborsClassifier\n",
    "from sklearn.tree import DecisionTreeClassifier\n",
    "from sklearn.svm import SVC\n",
    "from sklearn.naive_bayes import GaussianNB\n",
    "from sklearn.ensemble import BaggingClassifier\n",
    "from sklearn.ensemble import RandomForestClassifier\n",
    "from sklearn.ensemble import ExtraTreesClassifier\n",
    "from sklearn.ensemble import GradientBoostingClassifier\n",
    "from sklearn.ensemble import AdaBoostClassifier\n",
    "\n",
    "from matplotlib import pyplot"
   ]
  },
  {
   "cell_type": "markdown",
   "metadata": {},
   "source": [
    "Evaluate models using code from *\"Machine Learning Mastery with Python\"*.<br>\n",
    "Model performance is evaluated using _k_-folds cross-validation, so the test set remains untouched."
   ]
  },
  {
   "cell_type": "code",
   "execution_count": 72,
   "metadata": {},
   "outputs": [
    {
     "name": "stdout",
     "output_type": "stream",
     "text": [
      "KNN: 0.926364 (0.042660)\n",
      "DT: 0.904718 (0.032643)\n",
      "SVC: 0.939408 (0.037373)\n",
      "BAYES: 0.865772 (0.057405)\n",
      "BAG: 0.948011 (0.044801)\n",
      "RF: 0.956707 (0.033680)\n",
      "XT: 0.961055 (0.037382)\n",
      "GBM: 0.939685 (0.049569)\n"
     ]
    }
   ],
   "source": [
    "# prepare models\n",
    "models = []\n",
    "#non-linear models\n",
    "models.append(('KNN', KNeighborsClassifier(n_neighbors=4)))\n",
    "models.append(('DT', DecisionTreeClassifier()))\n",
    "models.append(('SVC', SVC(gamma='auto')))\n",
    "models.append(('BAYES', GaussianNB()))\n",
    "# ensemble models\n",
    "models.append(('BAG', BaggingClassifier(n_estimators=100)))\n",
    "models.append(('RF', RandomForestClassifier(n_estimators=100)))\n",
    "models.append(('XT', ExtraTreesClassifier(n_estimators=100)))\n",
    "models.append(('GBM', GradientBoostingClassifier(n_estimators=100)))\n",
    "#models.append(('AB', AdaBoostClassifier(n_estimators=100)))\n",
    "\n",
    "# evaluate each model in turn\n",
    "results = []\n",
    "names = []\n",
    "scoring = 'accuracy'\n",
    "for name, model in models:\n",
    "    kfold = KFold(n_splits=5, random_state=7)\n",
    "    cv_results = cross_val_score(model, X_train_scaled_top50, np.ravel(y_train), cv=kfold, scoring=scoring)\n",
    "    results.append(cv_results)\n",
    "    names.append(name)\n",
    "    msg = \"%s: %f (%f)\" % (name, cv_results.mean(), cv_results.std())\n",
    "    print(msg)"
   ]
  },
  {
   "cell_type": "code",
   "execution_count": 73,
   "metadata": {},
   "outputs": [
    {
     "data": {
      "text/plain": [
       "['KNN', 'DT', 'SVC', 'BAYES', 'BAG', 'RF', 'XT', 'GBM']"
      ]
     },
     "execution_count": 73,
     "metadata": {},
     "output_type": "execute_result"
    }
   ],
   "source": [
    "np.save('FAULT_CV_results', results, allow_pickle=False)\n",
    "names #need to copy and paste or find another way to write list to file"
   ]
  },
  {
   "cell_type": "code",
   "execution_count": 74,
   "metadata": {},
   "outputs": [
    {
     "data": {
      "image/png": "[encoded data removed]",
      "text/plain": [
       "<Figure size 864x432 with 1 Axes>"
      ]
     },
     "metadata": {
      "needs_background": "light"
     },
     "output_type": "display_data"
    }
   ],
   "source": [
    "# boxplot algorithm comparison\n",
    "fig = pyplot.figure(figsize=(12,6))\n",
    "fig.suptitle('Algorithm Comparison')\n",
    "ax = fig.add_subplot(111)\n",
    "pyplot.boxplot(results)\n",
    "ax.set_xticklabels(names)\n",
    "pyplot.ylim((0.5,1))\n",
    "pyplot.show()"
   ]
  },
  {
   "cell_type": "markdown",
   "metadata": {},
   "source": [
    "Choose the `RandomForest` for its performance and also robustness against overfitting. Use `GridSearch` to perform hyperparameter tuning."
   ]
  },
  {
   "cell_type": "code",
   "execution_count": 76,
   "metadata": {},
   "outputs": [],
   "source": [
    "from sklearn.model_selection import GridSearchCV\n",
    "parameter_candidates = {'n_estimators': np.arange(25,250,25), 'min_samples_split': np.arange(2,18,1), 'max_depth': np.arange(2,18,1)}"
   ]
  },
  {
   "cell_type": "code",
   "execution_count": 77,
   "metadata": {
    "scrolled": true
   },
   "outputs": [
    {
     "name": "stdout",
     "output_type": "stream",
     "text": [
      "Fitting 5 folds for each of 2304 candidates, totalling 11520 fits\n"
     ]
    },
    {
     "name": "stderr",
     "output_type": "stream",
     "text": [
      "[Parallel(n_jobs=1)]: Using backend SequentialBackend with 1 concurrent workers.\n"
     ]
    },
    {
     "name": "stdout",
     "output_type": "stream",
     "text": [
      "Wall time: 20min 18s\n"
     ]
    },
    {
     "name": "stderr",
     "output_type": "stream",
     "text": [
      "[Parallel(n_jobs=1)]: Done 11520 out of 11520 | elapsed: 20.3min finished\n",
      "C:\\ProgramData\\Anaconda3\\lib\\site-packages\\sklearn\\model_selection\\_search.py:841: DeprecationWarning: The default of the `iid` parameter will change from True to False in version 0.22 and will be removed in 0.24. This will change numeric results when test-set sizes are unequal.\n",
      "  DeprecationWarning)\n"
     ]
    },
    {
     "data": {
      "text/plain": [
       "GridSearchCV(cv=5, error_score='raise-deprecating',\n",
       "       estimator=RandomForestClassifier(bootstrap=True, class_weight=None, criterion='gini',\n",
       "            max_depth=None, max_features='auto', max_leaf_nodes=None,\n",
       "            min_impurity_decrease=0.0, min_impurity_split=None,\n",
       "            min_samples_leaf=1, min_samples_split=2,\n",
       "            min_weight_fraction_leaf=0.0, n_estimators='warn', n_jobs=None,\n",
       "            oob_score=False, random_state=None, verbose=0,\n",
       "            warm_start=False),\n",
       "       fit_params=None, iid='warn', n_jobs=None,\n",
       "       param_grid={'n_estimators': array([ 25,  50,  75, 100, 125, 150, 175, 200, 225]), 'min_samples_split': array([ 2,  3,  4,  5,  6,  7,  8,  9, 10, 11, 12, 13, 14, 15, 16, 17]), 'max_depth': array([ 2,  3,  4,  5,  6,  7,  8,  9, 10, 11, 12, 13, 14, 15, 16, 17])},\n",
       "       pre_dispatch='2*n_jobs', refit=True, return_train_score='warn',\n",
       "       scoring=None, verbose=1)"
      ]
     },
     "execution_count": 77,
     "metadata": {},
     "output_type": "execute_result"
    }
   ],
   "source": [
    "# create a classifier object with the classifier and parameter candidates\n",
    "clf = GridSearchCV(estimator=RandomForestClassifier(), param_grid=parameter_candidates, verbose=1, cv=5)\n",
    "\n",
    "# train the classifier \n",
    "%time clf.fit(X_train_scaled_top50, np.ravel(y_train)) "
   ]
  },
  {
   "cell_type": "code",
   "execution_count": 78,
   "metadata": {},
   "outputs": [
    {
     "name": "stdout",
     "output_type": "stream",
     "text": [
      "Best accuracy score for training data: 0.9783549783549783\n",
      "Best min_samples_split: 6\n",
      "Best max_depth: 6\n",
      "Best n_estimators: 125\n"
     ]
    }
   ],
   "source": [
    "# view the accuracy score\n",
    "print('Best accuracy score for training data:', clf.best_score_) \n",
    "\n",
    "# view the best parameters for the model found using grid search\n",
    "print('Best min_samples_split:', clf.best_estimator_.min_samples_split)\n",
    "print('Best max_depth:', clf.best_estimator_.max_depth)\n",
    "print('Best n_estimators:', clf.best_estimator_.n_estimators)"
   ]
  },
  {
   "cell_type": "markdown",
   "metadata": {},
   "source": [
    "Use the best parameters to define the model."
   ]
  },
  {
   "cell_type": "code",
   "execution_count": 79,
   "metadata": {
    "scrolled": true
   },
   "outputs": [
    {
     "name": "stdout",
     "output_type": "stream",
     "text": [
      "0.8888888888888888\n"
     ]
    }
   ],
   "source": [
    "RF_model_top = RandomForestClassifier(n_estimators=125, max_depth=6, min_samples_split=6, max_features=None, random_state=11)\n",
    "RF_model_top.fit(X_train_scaled_top50, np.ravel(y_train))\n",
    "print(RF_model_top.score(X_test_scaled_top50, np.ravel(y_test)))"
   ]
  },
  {
   "cell_type": "markdown",
   "metadata": {},
   "source": [
    "Save final `RandomForestClassifier` model using `joblib` (more [here](https://chrisalbon.com/machine_learning/basics/saving_machine_learning_models/)). Note, this model has been trained on the *top 50* the features."
   ]
  },
  {
   "cell_type": "code",
   "execution_count": 6,
   "metadata": {},
   "outputs": [],
   "source": [
    "# save model using joblib\n",
    "from sklearn.externals import joblib\n",
    "\n",
    "filename_joblib = 'RF_FAULT_top50_12172019_TMP.sav'\n",
    "#joblib.dump(RF_model_top, filename_joblib)\n",
    "\n",
    "# save model using pickle\n",
    "from pickle import dump\n",
    "from pickle import load\n",
    "\n",
    "filename_pickle = 'RF_FAULT_top50.pkl'\n",
    "#dump(RF_model_top, open(filename_pickle, 'wb'))"
   ]
  },
  {
   "cell_type": "code",
   "execution_count": 81,
   "metadata": {},
   "outputs": [
    {
     "name": "stdout",
     "output_type": "stream",
     "text": [
      "The mean accuracy score is: (94.84 +/- 2.91)%\n"
     ]
    }
   ],
   "source": [
    "scores = cross_val_score(RF_model_top, X_train_scaled_top50, np.ravel(y_train), cv=5)\n",
    "print(\"The mean accuracy score is: ({:.2f} +/- {:.2f})%\".format(100*scores.mean(), 100*scores.std()))"
   ]
  },
  {
   "cell_type": "markdown",
   "metadata": {},
   "source": [
    "Generate a `classification_report` using the `RandomForestClassifier`."
   ]
  },
  {
   "cell_type": "code",
   "execution_count": 82,
   "metadata": {},
   "outputs": [
    {
     "name": "stdout",
     "output_type": "stream",
     "text": [
      "              precision    recall  f1-score   support\n",
      "\n",
      "           0       1.00      1.00      1.00         8\n",
      "           1       0.89      0.53      0.67        15\n",
      "           2       0.86      0.94      0.90        34\n",
      "           3       0.89      0.95      0.92        42\n",
      "\n",
      "   micro avg       0.89      0.89      0.89        99\n",
      "   macro avg       0.91      0.86      0.87        99\n",
      "weighted avg       0.89      0.89      0.88        99\n",
      "\n"
     ]
    }
   ],
   "source": [
    "y_pred = RF_model_top.fit(X_train_scaled_top50, np.ravel(y_train)).predict(X_test_scaled_top50)\n",
    "print(classification_report(np.ravel(y_test), y_pred))"
   ]
  },
  {
   "cell_type": "code",
   "execution_count": 83,
   "metadata": {},
   "outputs": [],
   "source": [
    "conf_mx = confusion_matrix(np.ravel(y_test), y_pred)"
   ]
  },
  {
   "cell_type": "code",
   "execution_count": 84,
   "metadata": {},
   "outputs": [],
   "source": [
    "import numpy as np\n",
    "import matplotlib.pyplot as plt\n",
    "import seaborn as sns\n",
    "\n",
    "def make_confusion_matrix(cf,\n",
    "                          group_names=None,\n",
    "                          categories='auto',\n",
    "                          count=True,\n",
    "                          percent=True,\n",
    "                          cbar=True,\n",
    "                          xyticks=True,\n",
    "                          xyplotlabels=True,\n",
    "                          sum_stats=True,\n",
    "                          figsize=None,\n",
    "                          cmap='Blues'):\n",
    "    '''\n",
    "    This function will make a pretty plot of an sklearn Confusion Matrix cm using a Seaborn heatmap visualization.\n",
    "    Arguments\n",
    "    ---------\n",
    "    cf:            confusion matrix to be passed in\n",
    "    group_names:   List of strings that represent the labels row by row to be shown in each square.\n",
    "    categories:    List of strings containing the categories to be displayed on the x,y axis. Default is 'auto'\n",
    "    count:         If True, show the raw number in the confusion matrix. Default is True.\n",
    "    normalize:     If True, show the proportions for each category. Default is True.\n",
    "    cbar:          If True, show the color bar. The cbar values are based off the values in the confusion matrix.\n",
    "                   Default is True.\n",
    "    xyticks:       If True, show x and y ticks. Default is True.\n",
    "    xyplotlabels:  If True, show 'True Label' and 'Predicted Label' on the figure. Default is True.\n",
    "    sum_stats:     If True, display summary statistics below the figure. Default is True.\n",
    "    figsize:       Tuple representing the figure size. Default will be the matplotlib rcParams value.\n",
    "    cmap:          Colormap of the values displayed from matplotlib.pyplot.cm. Default is 'Blues'\n",
    "                   See http://matplotlib.org/examples/color/colormaps_reference.html\n",
    "    '''\n",
    "\n",
    "\n",
    "    # CODE TO GENERATE TEXT INSIDE EACH SQUARE\n",
    "    blanks = ['' for i in range(cf.size)]\n",
    "\n",
    "    if group_names and len(group_names)==cf.size:\n",
    "        group_labels = [\"{}\\n\".format(value) for value in group_names]\n",
    "    else:\n",
    "        group_labels = blanks\n",
    "\n",
    "    if count:\n",
    "        group_counts = [\"{0:0.0f}\\n\".format(value) for value in cf.flatten()]\n",
    "    else:\n",
    "        group_counts = blanks\n",
    "\n",
    "    if percent:\n",
    "        group_percentages = [\"{0:.2%}\".format(value) for value in cf.flatten()/np.sum(cf)]\n",
    "    else:\n",
    "        group_percentages = blanks\n",
    "\n",
    "    box_labels = [f\"{v1}{v2}{v3}\".strip() for v1, v2, v3 in zip(group_labels,group_counts,group_percentages)]\n",
    "    box_labels = np.asarray(box_labels).reshape(cf.shape[0],cf.shape[1])\n",
    "\n",
    "\n",
    "    # CODE TO GENERATE SUMMARY STATISTICS & TEXT FOR SUMMARY STATS\n",
    "    if sum_stats:\n",
    "        #Accuracy is sum of diagonal divided by total observations\n",
    "        accuracy  = np.trace(cf) / float(np.sum(cf))\n",
    "\n",
    "        #if it is a binary confusion matrix, show some more stats\n",
    "        if len(cf)==2:\n",
    "            #Metrics for Binary Confusion Matrices\n",
    "            precision = cf[1,1] / sum(cf[:,1])\n",
    "            recall    = cf[1,1] / sum(cf[1,:])\n",
    "            f1_score  = 2*precision*recall / (precision + recall)\n",
    "            stats_text = \"\\n\\nAccuracy={:0.3f}\\nPrecision={:0.3f}\\nRecall={:0.3f}\\nF1 Score={:0.3f}\".format(\n",
    "                accuracy,precision,recall,f1_score)\n",
    "        else:\n",
    "            stats_text = \"\\n\\nAccuracy={:0.3f}\".format(accuracy)\n",
    "    else:\n",
    "        stats_text = \"\"\n",
    "\n",
    "\n",
    "    # SET FIGURE PARAMETERS ACCORDING TO OTHER ARGUMENTS\n",
    "    if figsize==None:\n",
    "        #Get default figure size if not set\n",
    "        figsize = plt.rcParams.get('figure.figsize')\n",
    "\n",
    "    if xyticks==False:\n",
    "        #Do not show categories if xyticks is False\n",
    "        categories=False\n",
    "\n",
    "\n",
    "    # MAKE THE HEATMAP VISUALIZATION\n",
    "    plt.figure(figsize=figsize)\n",
    "    sns.heatmap(cf,annot=box_labels,fmt=\"\",cmap=cmap,cbar=cbar,xticklabels=categories,yticklabels=categories)\n",
    "\n",
    "    if xyplotlabels:\n",
    "        plt.ylabel('True label')\n",
    "        plt.xlabel('Predicted label' + stats_text)\n",
    "    else:\n",
    "        plt.xlabel(stats_text)"
   ]
  },
  {
   "cell_type": "code",
   "execution_count": 85,
   "metadata": {},
   "outputs": [
    {
     "data": {
      "image/png": "[encoded data removed]",
      "text/plain": [
       "<Figure size 1008x720 with 2 Axes>"
      ]
     },
     "metadata": {
      "needs_background": "light"
     },
     "output_type": "display_data"
    }
   ],
   "source": [
    "make_confusion_matrix(conf_mx, figsize=(14,10), cbar=True)"
   ]
  },
  {
   "cell_type": "markdown",
   "metadata": {},
   "source": [
    "Check that the model can be loaded."
   ]
  },
  {
   "cell_type": "code",
   "execution_count": 7,
   "metadata": {},
   "outputs": [],
   "source": [
    "#RF_from_pickle = load(open('./models/RF_FAULT_top50.pkl', 'rb'))\n",
    "RF_from_joblib = joblib.load('RF_FAULT_top50_12172019.sav')"
   ]
  },
  {
   "cell_type": "markdown",
   "metadata": {},
   "source": [
    "Use the loaded model to make predictions."
   ]
  },
  {
   "cell_type": "code",
   "execution_count": 8,
   "metadata": {},
   "outputs": [
    {
     "name": "stdout",
     "output_type": "stream",
     "text": [
      "0.8888888888888888\n"
     ]
    }
   ],
   "source": [
    "print(RF_from_joblib.score(X_test_scaled_top50, np.ravel(y_test)))"
   ]
  },
  {
   "cell_type": "code",
   "execution_count": null,
   "metadata": {},
   "outputs": [],
   "source": []
  }
 ],
 "metadata": {
  "kernelspec": {
   "display_name": "Python 3",
   "language": "python",
   "name": "python3"
  },
  "language_info": {
   "codemirror_mode": {
    "name": "ipython",
    "version": 3
   },
   "file_extension": ".py",
   "mimetype": "text/x-python",
   "name": "python",
   "nbconvert_exporter": "python",
   "pygments_lexer": "ipython3",
   "version": "3.6.4"
  }
 },
 "nbformat": 4,
 "nbformat_minor": 2
}
